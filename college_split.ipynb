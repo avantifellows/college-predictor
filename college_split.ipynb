{
 "cells": [
  {
   "cell_type": "code",
   "execution_count": 1,
   "metadata": {},
   "outputs": [
    {
     "name": "stdout",
     "output_type": "stream",
     "text": [
      "['OPEN' 'EWS' 'OBC-NCL' 'SC' 'ST' 'OPEN (PwD)' 'EWS (PwD)' 'OBC-NCL (PwD)'\n",
      " 'SC (PwD)' 'ST (PwD)']\n"
     ]
    }
   ],
   "source": [
    "import pandas as pd\n",
    "import json\n",
    "\n",
    "\n",
    "\n",
    "df = pd.read_csv(\"JoSAA 2022 Seat Allocation Tool - For Surya.csv\", header=0)\n",
    "# print(df.head())\n",
    "seat_types = df[\"Seat Type\"].unique()\n",
    "print(seat_types)"
   ]
  },
  {
   "cell_type": "code",
   "execution_count": null,
   "metadata": {},
   "outputs": [],
   "source": [
    "for seat_type in seat_types:\n",
    "    df_seat_type = df[df[\"Seat Type\"] == seat_type]\n",
    "    df_seat_type.to_json(f\"public/data/{seat_type}.json\", orient=\"records\")"
   ]
  },
  {
   "cell_type": "code",
   "execution_count": 42,
   "metadata": {},
   "outputs": [
    {
     "data": {
      "text/plain": [
       "Index(['College Rank', 'State', 'Exam', 'Institute', 'Academic Program Name',\n",
       "       'Quota', 'Special Quota', 'Seat Type', 'Gender', 'Round',\n",
       "       'Opening Rank', 'Closing Rank', 'Input Rank Comparison to Closing Rank',\n",
       "       'Category Match', '500', 'OBC-NCL'],\n",
       "      dtype='object')"
      ]
     },
     "execution_count": 42,
     "metadata": {},
     "output_type": "execute_result"
    }
   ],
   "source": [
    "df.columns"
   ]
  },
  {
   "cell_type": "code",
   "execution_count": 18,
   "metadata": {},
   "outputs": [
    {
     "data": {
      "text/plain": [
       "array(['Gender-Neutral', 'Female-only (including Supernumerary)'],\n",
       "      dtype=object)"
      ]
     },
     "execution_count": 18,
     "metadata": {},
     "output_type": "execute_result"
    }
   ],
   "source": [
    "df[\"Gender\"].unique()"
   ]
  },
  {
   "cell_type": "code",
   "execution_count": 22,
   "metadata": {},
   "outputs": [
    {
     "data": {
      "text/plain": [
       "array(['JEE Advanced', 'JEE Main'], dtype=object)"
      ]
     },
     "execution_count": 22,
     "metadata": {},
     "output_type": "execute_result"
    }
   ],
   "source": [
    "df[\"Exam\"].unique()"
   ]
  },
  {
   "cell_type": "code",
   "execution_count": 23,
   "metadata": {},
   "outputs": [
    {
     "data": {
      "text/plain": [
       "array(['Odisha', 'Maharashtra', 'Himachal Pradesh', 'New Delhi',\n",
       "       'Madhya Pradesh', 'West Bengal', 'Telangana', 'Rajasthan',\n",
       "       'Uttar Pradesh', 'Tamil Nadu', 'Gujarat', 'Bihar', 'Uttarakhand',\n",
       "       'Jharkhand', 'Punjab', 'Assam', 'Chhatisgarh', 'Goa', 'Kerala',\n",
       "       'Andhra Pradesh', 'Jammu & Kashmir', 'Karnataka', 'Tripura',\n",
       "       'Meghalaya', 'Nagaland', 'Puducherry', 'Sikkim',\n",
       "       'Arunachal Pradesh', 'Haryana', 'Manipur', 'Mizoram', 'Diu'],\n",
       "      dtype=object)"
      ]
     },
     "execution_count": 23,
     "metadata": {},
     "output_type": "execute_result"
    }
   ],
   "source": [
    "df[\"State\"].unique()"
   ]
  },
  {
   "cell_type": "code",
   "execution_count": 19,
   "metadata": {},
   "outputs": [
    {
     "data": {
      "text/plain": [
       "6"
      ]
     },
     "execution_count": 19,
     "metadata": {},
     "output_type": "execute_result"
    }
   ],
   "source": [
    "df[\"Round\"].max()"
   ]
  },
  {
   "cell_type": "code",
   "execution_count": 28,
   "metadata": {},
   "outputs": [
    {
     "data": {
      "text/plain": [
       "array(['AI', 'HS', 'OS'], dtype=object)"
      ]
     },
     "execution_count": 28,
     "metadata": {},
     "output_type": "execute_result"
    }
   ],
   "source": [
    "df[\"Quota\"].unique()"
   ]
  },
  {
   "cell_type": "code",
   "execution_count": null,
   "metadata": {},
   "outputs": [],
   "source": [
    "# re rank based on round 1 ke open category ka closing ranks!"
   ]
  },
  {
   "cell_type": "code",
   "execution_count": 27,
   "metadata": {},
   "outputs": [
    {
     "data": {
      "text/plain": [
       "array(['HS', 'OS'], dtype=object)"
      ]
     },
     "execution_count": 27,
     "metadata": {},
     "output_type": "execute_result"
    }
   ],
   "source": [
    "df[df[\"Institute\"] == \"National Institute of Technology Karnataka, Surathkal\"][\"Quota\"].unique()"
   ]
  },
  {
   "cell_type": "code",
   "execution_count": 32,
   "metadata": {},
   "outputs": [
    {
     "data": {
      "text/plain": [
       "(Index(['S. No.', 'Rollno', 'Name', 'Quota', 'AIR', 'Category', 'optionN o',\n",
       "        'Institute Code', 'Institute Name', 'Subject', 'Allotted Category',\n",
       "        'Allotte d ph', 'Admitte dRound'],\n",
       "       dtype='object'),\n",
       " Index(['Institute Name', 'State', 'Subject', 'General', 'EW', 'SC', 'ST',\n",
       "        'OBC', 'General_PWD', 'EW_PWD', 'SC_PWD', 'ST_PWD', 'OBC_PWD',\n",
       "        'Unnamed: 13', 'Unnamed: 14', 'Unnamed: 15', 'Unnamed: 16',\n",
       "        'Unnamed: 17', 'Unnamed: 18', 'Unnamed: 19', 'Unnamed: 20',\n",
       "        'Unnamed: 21', 'Unnamed: 22', 'Unnamed: 23', 'Unnamed: 24'],\n",
       "       dtype='object'))"
      ]
     },
     "execution_count": 32,
     "metadata": {},
     "output_type": "execute_result"
    }
   ],
   "source": [
    "neet_report = pd.read_csv(\"Admitted Candidates List Upto Mop Up Round MBBS BD.xlsx - Report.csv\")\n",
    "neet_stud = pd.read_csv(\"Admitted Candidates List Upto Mop Up Round MBBS BD.xlsx - Table 1.csv\", header=1)\n",
    "\n",
    "neet_stud.columns, neet_report.columns"
   ]
  },
  {
   "cell_type": "code",
   "execution_count": null,
   "metadata": {},
   "outputs": [],
   "source": []
  },
  {
   "cell_type": "code",
   "execution_count": 186,
   "metadata": {},
   "outputs": [],
   "source": [
    "from collections import defaultdict\n",
    "\n",
    "institute_code_to_names = defaultdict(list)\n",
    "institute_name_to_codes = {}\n",
    "for it, row in neet_stud.iterrows():\n",
    "    code, name = row[\"Institute Code\"], row[\"Institute Name\"]\n",
    "\n",
    "    if name not in institute_code_to_names[code]:\n",
    "        institute_code_to_names[code].append(name)\n",
    "\n",
    "    institute_name_to_codes[name] = code"
   ]
  },
  {
   "cell_type": "code",
   "execution_count": null,
   "metadata": {},
   "outputs": [],
   "source": [
    "for k, v in institute_code_to_names.items():\n",
    "    if len(v) > 1:\n",
    "        print(k, v)\n",
    "        break"
   ]
  },
  {
   "cell_type": "code",
   "execution_count": 167,
   "metadata": {},
   "outputs": [],
   "source": [
    "# i am picking the first one that appears\n",
    "code_to_college_mapper = {}\n",
    "for k, v in institute_code_to_names.items():\n",
    "    code_to_college_mapper[k] = v[0]\n",
    "\n",
    "assert len(institute_code_to_names) == len(code_to_college_mapper)"
   ]
  },
  {
   "cell_type": "code",
   "execution_count": 168,
   "metadata": {},
   "outputs": [],
   "source": [
    "# for each round, for each subject, for each quota, \n",
    "# using ph as pwd -- physically handicapped\n",
    "# consider allotted cat or actual cat?\n",
    "# what to do about quota? Employee State Insurance, etc.\n",
    "# all of this should be for each institute na ... institute code!!\n",
    "deter_cols = [\"Quota\", \"Admitte dRound\", \"Allotte d ph\", \"Subject\"]\n",
    "\n",
    "output_cols = [\"Institute Code\", \"Institute Name\"]\n",
    "\n",
    "close_mapper = defaultdict(lambda : 0)\n",
    "open_mapper = defaultdict(lambda : float(\"inf\"))\n",
    "\n",
    "for it, row in neet_stud.iterrows():\n",
    "\n",
    "    deter_col_vals = [row[x] for x in deter_cols]\n",
    "    \n",
    "    cat = row[\"Allotted Category\"]\n",
    "    if cat == \"OP\":\n",
    "        cat = \"General\"\n",
    "    \n",
    "    deter_col_vals.append(cat)\n",
    "\n",
    "    inst_code = row[\"Institute Code\"]\n",
    "    output_col_vals = [inst_code, code_to_college_mapper[inst_code]]\n",
    "\n",
    "    all_cols = deter_col_vals + output_col_vals\n",
    "\n",
    "    all_cols = tuple(all_cols) # hashable\n",
    "\n",
    "    if close_mapper[all_cols] < row[\"AIR\"]:\n",
    "        close_mapper[all_cols] = row[\"AIR\"]\n",
    "\n",
    "    if open_mapper[all_cols] > row[\"AIR\"]:\n",
    "        open_mapper[all_cols] = row[\"AIR\"]\n",
    "\n",
    "\n"
   ]
  },
  {
   "cell_type": "code",
   "execution_count": 169,
   "metadata": {},
   "outputs": [
    {
     "name": "stdout",
     "output_type": "stream",
     "text": [
      "('Open Seat Quota', 1, 'NO', 'MBBS', 'General', 200502, 'AIIMS, New Delhi,AIIMS ANSARI NAGAR EAST AUROBINDO MARG NEW DELHI 110029, Delhi (NCT), 110029') 55.0\n"
     ]
    }
   ],
   "source": [
    "for k, v in close_mapper.items():\n",
    "    print(k, v)\n",
    "    break"
   ]
  },
  {
   "cell_type": "code",
   "execution_count": 170,
   "metadata": {},
   "outputs": [],
   "source": [
    "cat_unique_values = [\"SC\", \"ST\", \"General\", \"OBC\", \"EW\"]"
   ]
  },
  {
   "cell_type": "code",
   "execution_count": 171,
   "metadata": {},
   "outputs": [],
   "source": [
    "all_dic = []\n",
    "selectors = [0, 1, 2, 3, 4, 5, 6]\n",
    "selector_names = [\"Quota\", \"Round\", \"is_PWD\", \"Subject\", \"Seat Type\", \"Institute Code\", \"Institute Name\"]\n",
    "\n",
    "for k, v in close_mapper.items():\n",
    "    dic = {}\n",
    "    for key_index, name in zip(selectors, selector_names):\n",
    "        dic[name] = k[key_index]\n",
    "\n",
    "    if k in open_mapper:\n",
    "        dic[\"Opening Rank\"] = open_mapper[k]\n",
    "\n",
    "    dic[\"Closing_Rank\"] = v\n",
    "    \n",
    "    all_dic.append(dic)\n",
    "\n",
    "    # break\n",
    "\n",
    "all_dic = pd.DataFrame(all_dic)"
   ]
  },
  {
   "cell_type": "code",
   "execution_count": 172,
   "metadata": {},
   "outputs": [],
   "source": [
    "# time to rank institutes!!\n",
    "# find round 1 ka opening rank.. rank based on it!\n",
    "\n",
    "code_to_open_ranks = defaultdict(lambda : float(\"inf\"))\n",
    "\n",
    "for it, row in all_dic.iterrows():\n",
    "    # print(row[\"Round\"] == 1 , row[\"Category\"] == \"General\" , row[\"is_PWD\"] == \"NO\", row[\"Quota\"] == \"Open Seat Quota\")\n",
    "    if code_to_open_ranks[row[\"Institute Code\"]] > row[\"Opening Rank\"]:\n",
    "        code_to_open_ranks[row[\"Institute Code\"]] = row[\"Opening Rank\"]\n",
    "\n",
    "        # break"
   ]
  },
  {
   "cell_type": "code",
   "execution_count": 173,
   "metadata": {},
   "outputs": [],
   "source": [
    "# now sort the dict based on this\n",
    "# sort keys of dict based on values\n",
    "ranking = sorted(code_to_open_ranks.items(), key = lambda item: item[1])\n",
    "\n",
    "code_to_rank_mapper = {}\n",
    "\n",
    "rank_idx = 1\n",
    "for k, v in ranking:\n",
    "    code_to_rank_mapper[k] = rank_idx\n",
    "    rank_idx += 1"
   ]
  },
  {
   "cell_type": "code",
   "execution_count": 174,
   "metadata": {},
   "outputs": [
    {
     "data": {
      "text/plain": [
       "(483, 483)"
      ]
     },
     "execution_count": 174,
     "metadata": {},
     "output_type": "execute_result"
    }
   ],
   "source": [
    "len(all_dic[\"Institute Code\"].unique()), len(code_to_open_ranks)"
   ]
  },
  {
   "cell_type": "code",
   "execution_count": 175,
   "metadata": {},
   "outputs": [],
   "source": [
    "all_dic[\"College Rank\"] = all_dic[\"Institute Code\"].map(code_to_rank_mapper)"
   ]
  },
  {
   "cell_type": "code",
   "execution_count": 177,
   "metadata": {},
   "outputs": [],
   "source": [
    "# combine pwd and category\n",
    "all_dic[\"Seat Type\"] = all_dic.apply(lambda row: row[\"Seat Type\"] + \" (PwD)\" if row[\"is_PWD\"] != \"NO\" else row[\"Seat Type\"], axis = 1)"
   ]
  },
  {
   "cell_type": "code",
   "execution_count": 151,
   "metadata": {},
   "outputs": [
    {
     "data": {
      "text/plain": [
       "(Index(['Quota', 'Round', 'is_PWD', 'Subject', 'Category', 'Institute Code',\n",
       "        'Institute Name', 'Opening Rank', 'Closing_Rank', 'College Rank'],\n",
       "       dtype='object'),\n",
       " Index(['College Rank', 'State', 'Exam', 'Institute', 'Academic Program Name',\n",
       "        'Quota', 'Special Quota', 'Seat Type', 'Gender', 'Round',\n",
       "        'Opening Rank', 'Closing Rank', 'Input Rank Comparison to Closing Rank',\n",
       "        'Category Match', '500', 'OBC-NCL'],\n",
       "       dtype='object'))"
      ]
     },
     "execution_count": 151,
     "metadata": {},
     "output_type": "execute_result"
    }
   ],
   "source": [
    "all_dic.columns, df.columns"
   ]
  },
  {
   "cell_type": "code",
   "execution_count": 183,
   "metadata": {},
   "outputs": [],
   "source": [
    "all_dic = all_dic.rename(columns={\n",
    "    \"Category\": \"Seat Type\",\n",
    "    \"Institute Name\": \"Institute\",\n",
    "    \"Subject\": \"Academic Program Name\",\n",
    "    \"Closing_Rank\": \"Closing Rank\"\n",
    "}) "
   ]
  },
  {
   "cell_type": "code",
   "execution_count": 179,
   "metadata": {},
   "outputs": [],
   "source": [
    "def replace_cat(row):\n",
    "    cat = row[\"Seat Type\"]\n",
    "    if cat == \"General\":\n",
    "        cat = \"OPEN\"\n",
    "    elif cat == \"General (PwD)\":\n",
    "        cat = \"OPEN (PwD)\"\n",
    "    elif cat == \"EW\":\n",
    "        cat = \"EWS\"\n",
    "    elif cat == \"EW (PwD)\":\n",
    "        cat = \"EWS (PwD)\"\n",
    "    elif cat == \"OBC\":\n",
    "        cat = \"OBC-NCL\"\n",
    "    elif cat == \"OBC (PwD)\":\n",
    "        cat = \"OBC-NCL (PwD)\"\n",
    "\n",
    "    return cat\n",
    "\n",
    "all_dic[\"Seat Type\"] = all_dic.apply(lambda row: replace_cat(row), axis = 1)\n",
    "\n"
   ]
  },
  {
   "cell_type": "code",
   "execution_count": 187,
   "metadata": {},
   "outputs": [
    {
     "name": "stdout",
     "output_type": "stream",
     "text": [
      "(23059, 13) (433, 25)\n"
     ]
    }
   ],
   "source": [
    "# figuring out state for each..\n",
    "# merge on institute name\n",
    "print(neet_stud.shape, neet_report.shape)\n",
    "inst_code_to_state_map = {}\n",
    "for it, row in pd.merge(neet_stud, neet_report, on=[\"Institute Name\"]).iterrows():\n",
    "    name, state = row[\"Institute Name\"], row[\"State\"]\n",
    "\n",
    "    inst_code_to_state_map[institute_name_to_codes[name]] = state\n",
    "\n",
    "\n",
    "\n",
    "all_dic[\"State\"] = all_dic[\"Institute Code\"].map(inst_code_to_state_map)\n"
   ]
  },
  {
   "cell_type": "code",
   "execution_count": 188,
   "metadata": {},
   "outputs": [],
   "source": [
    "for cat in all_dic[\"Seat Type\"].unique():\n",
    "    all_dic_category = all_dic[all_dic[\"Seat Type\"] == cat]\n",
    "\n",
    "    all_dic_category.to_json(f\"public/data/NEET/{cat}.json\", orient=\"records\")"
   ]
  },
  {
   "cell_type": "code",
   "execution_count": 190,
   "metadata": {},
   "outputs": [],
   "source": [
    "all_dic.to_csv(\"Surya - NEET Data.csv\")"
   ]
  },
  {
   "cell_type": "code",
   "execution_count": null,
   "metadata": {},
   "outputs": [],
   "source": [
    "schol_data = pd.read_csv(\"scholarship_data.csv\")"
   ]
  },
  {
   "cell_type": "code",
   "execution_count": 4,
   "metadata": {},
   "outputs": [],
   "source": [
    "# update state names\n",
    "names_in_sheet = []\n",
    "for it, row in schol_data.iterrows():\n",
    "    for k, v in row.items():\n",
    "        if \"State\" in k:\n",
    "            if v not in names_in_sheet:\n",
    "                names_in_sheet.append(v)\n",
    "\n",
    "            "
   ]
  },
  {
   "cell_type": "code",
   "execution_count": 5,
   "metadata": {},
   "outputs": [
    {
     "data": {
      "text/plain": [
       "[nan,\n",
       " 'Andhra Pradesh',\n",
       " 'Karnataka',\n",
       " 'Telangana',\n",
       " 'Gujarat',\n",
       " 'Maharashtra',\n",
       " 'Tamil Nadu',\n",
       " 'Bihar',\n",
       " 'Haryana',\n",
       " 'Kerala',\n",
       " 'Arunachal Pradesh',\n",
       " 'Assam',\n",
       " 'Manipur',\n",
       " 'Meghalaya',\n",
       " 'Mizoram',\n",
       " 'Nagaland',\n",
       " 'Sikkim',\n",
       " 'Tripura']"
      ]
     },
     "execution_count": 5,
     "metadata": {},
     "output_type": "execute_result"
    }
   ],
   "source": [
    "names_in_sheet"
   ]
  },
  {
   "cell_type": "code",
   "execution_count": 6,
   "metadata": {},
   "outputs": [],
   "source": [
    "# update state names\n",
    "city_names_in_sheet = []\n",
    "for it, row in schol_data.iterrows():\n",
    "    for k, v in row.items():\n",
    "        if \"City\" in k:\n",
    "            if v not in city_names_in_sheet:\n",
    "                city_names_in_sheet.append(v)\n",
    "\n",
    "            "
   ]
  },
  {
   "cell_type": "code",
   "execution_count": 7,
   "metadata": {},
   "outputs": [
    {
     "data": {
      "text/plain": [
       "[nan, 'Mumbai', 'Delhi NCR', 'Ahmedabad', 'Bangalore', 'Pune']"
      ]
     },
     "execution_count": 7,
     "metadata": {},
     "output_type": "execute_result"
    }
   ],
   "source": [
    "city_names_in_sheet"
   ]
  },
  {
   "cell_type": "code",
   "execution_count": 8,
   "metadata": {},
   "outputs": [
    {
     "data": {
      "text/plain": [
       "['IIT', 'NIT', nan]"
      ]
     },
     "execution_count": 8,
     "metadata": {},
     "output_type": "execute_result"
    }
   ],
   "source": [
    "college_names_in_sheet = []\n",
    "for it, row in schol_data.iterrows():\n",
    "    for k, v in row.items():\n",
    "        if \"College\" in k:\n",
    "            if v not in college_names_in_sheet:\n",
    "                college_names_in_sheet.append(v)\n",
    "\n",
    "college_names_in_sheet"
   ]
  },
  {
   "cell_type": "code",
   "execution_count": 9,
   "metadata": {},
   "outputs": [
    {
     "data": {
      "text/plain": [
       "(990, 38)"
      ]
     },
     "execution_count": 9,
     "metadata": {},
     "output_type": "execute_result"
    }
   ],
   "source": [
    "schol_data.shape"
   ]
  },
  {
   "cell_type": "code",
   "execution_count": 11,
   "metadata": {},
   "outputs": [
    {
     "data": {
      "text/plain": [
       "Sl No                                                                                 94.0\n",
       "Scholarship Name                         FINANCIAL SUPPORT TO THE STUDENTS OF NER FOR H...\n",
       "Status                                                                                 NaN\n",
       "Class 11 can Apply                                                                      No\n",
       "Class 12 can Apply                                                                      No\n",
       "Can UG 1st year apply?                                                                 Yes\n",
       "Gender                                                                                Both\n",
       "Family Income (in LPA)                                                                 8.0\n",
       "Category                                                                           General\n",
       "State 1                                                                              Assam\n",
       "State 2                                                                  Arunachal Pradesh\n",
       "State 3                                                                          Meghalaya\n",
       "State 4                                                                            Manipur\n",
       "State 5                                                                            Mizoram\n",
       "State 6                                                                           Nagaland\n",
       "State 7                                                                             Sikkim\n",
       "State 8                                                                            Tripura\n",
       "City 1                                                                                 NaN\n",
       "City 2                                                                                 NaN\n",
       "City 3                                                                                 NaN\n",
       "City 4                                                                                 NaN\n",
       "College 1                                                                              NaN\n",
       "College 2                                                                              NaN\n",
       "Last Date                                                                              NaN\n",
       "Tentative Open Date                                                                    NaN\n",
       "Open for Stream                                                                        ALL\n",
       "Special Criteria                                                    For nort east students\n",
       "Eligibility                              For Diploma, UG, PG, M.phil, Ph.D. with at lea...\n",
       "Benefits                                 Diploma:20,000 per annum, Degree:22,000 per an...\n",
       "Doc Required                             Permanent certificate, Income certificate,  Ba...\n",
       "Number of Applicants                                                                   NaN\n",
       "Number of Scholars                                                                     NaN\n",
       "Karnataka Applicants                                                                   NaN\n",
       "Application Link                                              https://scholarships.gov.in/\n",
       "Added to Portal                                                                        NaN\n",
       "Information about instituions eligble                                                  NaN\n",
       "Deadline for the year 2021-22                                                          NaN\n",
       "Unnamed: 37                                                                            NaN\n",
       "Name: 92, dtype: object"
      ]
     },
     "execution_count": 11,
     "metadata": {},
     "output_type": "execute_result"
    }
   ],
   "source": [
    "schol_data.iloc[92]"
   ]
  },
  {
   "cell_type": "code",
   "execution_count": 12,
   "metadata": {},
   "outputs": [],
   "source": [
    "schol_data[:93].to_json(\"public/data/scholarships/scholarship_data.json\", orient=\"records\")"
   ]
  },
  {
   "cell_type": "code",
   "execution_count": 13,
   "metadata": {},
   "outputs": [
    {
     "data": {
      "text/plain": [
       "array([nan, 'PWD', 'Others', 'SC/ST', 'General ', 'General'], dtype=object)"
      ]
     },
     "execution_count": 13,
     "metadata": {},
     "output_type": "execute_result"
    }
   ],
   "source": [
    "schol_data[\"Category\"].unique()"
   ]
  },
  {
   "cell_type": "code",
   "execution_count": 46,
   "metadata": {},
   "outputs": [],
   "source": [
    "mhcet_data = pd.read_csv(\"MHT CET 2023 All Cutoffs - Cutoffs.csv\")\n",
    "mhcet_cat = pd.read_csv(\"MHT CET 2023 All Cutoffs - Categories.csv\")"
   ]
  },
  {
   "cell_type": "code",
   "execution_count": 47,
   "metadata": {},
   "outputs": [],
   "source": [
    "mhcet_cat = mhcet_cat.rename(columns = {\"Unnamed: 0\": \"Cat\"})"
   ]
  },
  {
   "cell_type": "code",
   "execution_count": 48,
   "metadata": {},
   "outputs": [
    {
     "name": "stdout",
     "output_type": "stream",
     "text": [
      "['GOPENS' 'GOPENH' 'GSCS' 'GSTS' 'GVJS' 'GNT1S' 'GNT2S' 'GNT3S' 'GOBCS'\n",
      " 'LOPENS' 'LSCS' 'LSTS' 'LVJS' 'LNT1S' 'LNT2S' 'LNT3S' 'LOBCS' 'PWDOPENS'\n",
      " 'DEFOPENS' 'TFWS' 'EWS' 'PWDROBC\\nS' 'DEFROBCS' 'Unnamed: 1' 'PWDRSCS'\n",
      " 'GSCH' 'GVJH' 'GNT1H' 'GOBCH' 'LOPENH' 'LOBCH' 'GOPENO' 'GSCO' 'GNT3O'\n",
      " 'GOBCO' 'LOPENO' 'LSCH' 'GSTH' 'LNT2H' 'GNT2H' 'GNT3H' 'LNT1H' 'LSTH'\n",
      " 'GNT2O' 'LSTO' 'LOBCO' 'LNT3H' 'PWDOPENH' 'GSTO' 'GVJO' 'LSCO' 'LNT2O'\n",
      " 'LVJO' 'LNT3O' 'LVJH' 'LNT1O' 'GNT1O' 'PWDROBC' 'PWDOBCS' 'DEFOBCS'\n",
      " 'DEFRSCS' 'ORPHAN' 'MI' 'DEFRNT3S' 'DEFRNT2S' 'PWDRNT2S' 'DEFRNT1S'\n",
      " 'DEFRVJS' 'PWDSCS' 'DEFSCS' 'PWDRNT3S' 'PWDRSCH' 'PWDRNT1S' 'PWDRSTS'\n",
      " 'PWDOBCH' 'PWDRNT2H' 'PWDSCH' 'PWDRNT1H' 'PWDROBC\\nH' 'Unnamed: 2'\n",
      " 'PWDRSTH' 'PWDRVJH' 'PWDRVJS']\n",
      "['General' 'Female']\n",
      "['Open' 'SC' 'ST' 'VJ' 'NT' 'OBC' nan 'EWS' 'Orphan' 'Religious Minority']\n",
      "['Maharashtra' 'Other']\n",
      "['No' 'Yes']\n",
      "['No' 'Yes']\n",
      "['MHT CET']\n"
     ]
    }
   ],
   "source": [
    "for col in mhcet_cat.columns:\n",
    "    print(mhcet_cat[col].unique())"
   ]
  },
  {
   "cell_type": "code",
   "execution_count": 49,
   "metadata": {},
   "outputs": [],
   "source": [
    "# required columns\n",
    "# Gender, Category, State, PWD, Defense, Closing Rank, Institute, Course\n",
    "\n",
    "all_dic = []\n",
    "for it, row in mhcet_data.iterrows():\n",
    "    for k, v in row.items():\n",
    "        \n",
    "        if k in [\"College\", \"Course\", \"Unnamed: 1\", \"Unnamed: 2\"]:\n",
    "            continue\n",
    "        else:\n",
    "            dic = {}\n",
    "            dic[\"Institute\"] = row[\"College\"]\n",
    "            dic[\"Course\"] = row[\"Course\"]\n",
    "            cat_row = dict(mhcet_cat[mhcet_cat[\"Cat\"] == k].iloc[0])\n",
    "            \n",
    "            dic[\"Category\"] = cat_row[\"Category\"]\n",
    "            if cat_row[\"Gender\"] == \"General\":\n",
    "                dic[\"Gender\"] = \"Gender-Neutral\"\n",
    "            elif cat_row[\"Gender\"] == \"Female\":\n",
    "                dic[\"Gender\"] = \"Female-Only\"\n",
    "            dic[\"Defense\"] = cat_row[\"Defense Ward\"]\n",
    "            dic[\"PWD\"]= cat_row[\"PWD\"]\n",
    "            dic[\"State\"] = cat_row[\"State\"]\n",
    "            dic[\"Category_Key\"] = k\n",
    "\n",
    "            if v == \"\" or pd.isna(v): continue # no rank available\n",
    "\n",
    "            v = str(v)\n",
    "\n",
    "            if \"\\n\" in v:\n",
    "                v = v.split(\"\\n\")[0]\n",
    "            elif \" \" in v:\n",
    "                v = v.split(\" \")[0]\n",
    "            elif \".\" in v:\n",
    "                v = v.split(\".\")[0]\n",
    "\n",
    "            dic[\"Closing Rank\"] = v\n",
    "\n",
    "            all_dic.append(dic)\n",
    "            # break \n",
    "    \n",
    "    # break \n",
    "            # dic[\"Category\"] = k\n",
    "\n",
    "            \n",
    "\n",
    "\n"
   ]
  },
  {
   "cell_type": "code",
   "execution_count": 50,
   "metadata": {},
   "outputs": [],
   "source": [
    "final_mhcet_data = pd.DataFrame(all_dic)"
   ]
  },
  {
   "cell_type": "code",
   "execution_count": 51,
   "metadata": {},
   "outputs": [],
   "source": [
    "final_mhcet_data.to_json(\"public/data/MHTCET/mhtcet_data.json\", orient=\"records\")"
   ]
  },
  {
   "cell_type": "code",
   "execution_count": 52,
   "metadata": {},
   "outputs": [
    {
     "name": "stdout",
     "output_type": "stream",
     "text": [
      "Institute       Government College of Engineering, Amravati\n",
      "Course                                    Civil Engineering\n",
      "Category                                               Open\n",
      "Gender                                       Gender-Neutral\n",
      "Defense                                                  No\n",
      "PWD                                                      No\n",
      "State                                           Maharashtra\n",
      "Category_Key                                         GOPENS\n",
      "Closing Rank                                          45820\n",
      "Name: 0, dtype: object\n"
     ]
    }
   ],
   "source": [
    "for it, row in final_mhcet_data.iterrows():\n",
    "    # Show Both Maharashtra No No General\n",
    "    # print(row)\n",
    "    if row[\"Category\"] == \"Open\" and row[\"Gender\"] == \"Gender-Neutral\" and row[\"State\"] == \"Maharashtra\" and row[\"PWD\"] == \"No\" and row[\"Defense\"] == \"No\":\n",
    "        print(row)\n",
    "    break"
   ]
  },
  {
   "cell_type": "code",
   "execution_count": 50,
   "metadata": {},
   "outputs": [
    {
     "data": {
      "text/plain": [
       "Index(['Institute', 'Course', 'Category', 'Gender', 'Defense', 'PWD', 'State',\n",
       "       'Category_Key', 'Closing Rank'],\n",
       "      dtype='object')"
      ]
     },
     "execution_count": 50,
     "metadata": {},
     "output_type": "execute_result"
    }
   ],
   "source": [
    "final_mhcet_data.columns"
   ]
  },
  {
   "cell_type": "code",
   "execution_count": 53,
   "metadata": {},
   "outputs": [
    {
     "name": "stdout",
     "output_type": "stream",
     "text": [
      "['Open' 'SC' 'ST' 'VJ' 'NT' 'OBC' nan 'EWS' 'Orphan' 'Religious Minority']\n",
      "['General' 'Female']\n",
      "['No' 'Yes']\n",
      "['No' 'Yes']\n",
      "['Maharashtra']\n",
      "['GOPENS' 'GSCS' 'GSTS' 'GVJS' 'GNT1S' 'GNT2S' 'GNT3S' 'GOBCS' 'LOPENS'\n",
      " 'LSCS' 'LSTS' 'LVJS' 'LNT1S' 'LNT2S' 'LNT3S' 'LOBCS' 'PWDOPENS'\n",
      " 'DEFOPENS' 'TFWS' 'EWS' 'PWDROBC\\nS' 'DEFROBCS' 'PWDRSCS' 'GOPENH' 'GSCH'\n",
      " 'GVJH' 'GNT1H' 'GOBCH' 'LOPENH' 'LOBCH' 'LSCH' 'GNT2H' 'GNT3H' 'LNT1H'\n",
      " 'GSTH' 'LSTH' 'LNT3H' 'PWDOPENH' 'LNT2H' 'LVJH' 'PWDROBC' 'PWDOBCS'\n",
      " 'DEFOBCS' 'DEFRSCS' 'DEFRNT3S' 'ORPHAN' 'DEFRNT2S' 'DEFRVJS' 'PWDRNT2S'\n",
      " 'MI' 'PWDSCS' 'DEFSCS' 'DEFRNT1S' 'PWDRNT1S' 'PWDRSTS' 'PWDRNT3S'\n",
      " 'PWDOBCH' 'PWDSCH' 'PWDRNT1H' 'PWDROBC\\nH' 'PWDRSTH']\n"
     ]
    }
   ],
   "source": [
    "for col in final_mhcet_data.columns:\n",
    "    if col not in [\"Institute\", \"Closing Rank\", \"Course\"]:\n",
    "        print(final_mhcet_data[col].unique())"
   ]
  },
  {
   "cell_type": "code",
   "execution_count": 58,
   "metadata": {},
   "outputs": [
    {
     "data": {
      "text/html": [
       "<div>\n",
       "<style scoped>\n",
       "    .dataframe tbody tr th:only-of-type {\n",
       "        vertical-align: middle;\n",
       "    }\n",
       "\n",
       "    .dataframe tbody tr th {\n",
       "        vertical-align: top;\n",
       "    }\n",
       "\n",
       "    .dataframe thead th {\n",
       "        text-align: right;\n",
       "    }\n",
       "</style>\n",
       "<table border=\"1\" class=\"dataframe\">\n",
       "  <thead>\n",
       "    <tr style=\"text-align: right;\">\n",
       "      <th></th>\n",
       "      <th>Institute</th>\n",
       "      <th>Course</th>\n",
       "      <th>Category</th>\n",
       "      <th>Gender</th>\n",
       "      <th>Defense</th>\n",
       "      <th>PWD</th>\n",
       "      <th>State</th>\n",
       "      <th>Category_Key</th>\n",
       "      <th>Closing Rank</th>\n",
       "    </tr>\n",
       "  </thead>\n",
       "  <tbody>\n",
       "  </tbody>\n",
       "</table>\n",
       "</div>"
      ],
      "text/plain": [
       "Empty DataFrame\n",
       "Columns: [Institute, Course, Category, Gender, Defense, PWD, State, Category_Key, Closing Rank]\n",
       "Index: []"
      ]
     },
     "execution_count": 58,
     "metadata": {},
     "output_type": "execute_result"
    }
   ],
   "source": [
    "final_mhcet_data[final_mhcet_data[\"Category_Key\"] == \"LOBCO\"]"
   ]
  },
  {
   "cell_type": "code",
   "execution_count": 66,
   "metadata": {},
   "outputs": [
    {
     "name": "stdout",
     "output_type": "stream",
     "text": [
      "(138775, 14)\n",
      "Index(['ENTRY No.', 'OFFSET', 'Course Type', 'category', 'filename',\n",
      "       'sheetname', 'college', 'course', 'Caste', 'Category', 'Language',\n",
      "       'Rural / Urban', 'Label', 'Closing Rank'],\n",
      "      dtype='object')\n"
     ]
    }
   ],
   "source": [
    "kcet_data = pd.read_csv(\"kcet_counselling_data_2022.csv\")\n",
    "\n",
    "print(kcet_data.shape)\n",
    "print(kcet_data.columns)"
   ]
  },
  {
   "cell_type": "code",
   "execution_count": 70,
   "metadata": {},
   "outputs": [],
   "source": [
    "all_dic = []\n",
    "for it, row in kcet_data.iterrows():\n",
    "    dic = {}\n",
    "    if pd.isna(row[\"college\"]): continue\n",
    "    if pd.isna(row[\"Course Type\"]): continue\n",
    "    dic[\"Institute\"] = row[\"college\"].replace(\"\\xa0\", \" \")\n",
    "    dic[\"Course Type\"] = row[\"Course Type\"]\n",
    "    dic[\"Course\"] = row[\"course\"]\n",
    "    dic[\"Category\"] = row[\"Caste\"]\n",
    "    dic[\"State\"] = row[\"Category\"]\n",
    "    dic[\"Language\"] = row[\"Language\"]\n",
    "    dic[\"Rural/Urban\"] = row[\"Rural / Urban\"]\n",
    "    dic[\"Category_Key\"] = row[\"Label\"]\n",
    "\n",
    "    v = row[\"Closing Rank\"]\n",
    "    if v == \"\" or pd.isna(v): continue # no rank available\n",
    "\n",
    "    v = str(v)\n",
    "\n",
    "    if \"\\n\" in v:\n",
    "        v = v.split(\"\\n\")[0]\n",
    "    elif \" \" in v:\n",
    "        v = v.split(\" \")[0]\n",
    "    elif \".\" in v:\n",
    "        v = v.split(\".\")[0]\n",
    "\n",
    "    dic[\"Closing Rank\"] = v\n",
    "\n",
    "    all_dic.append(dic)"
   ]
  },
  {
   "cell_type": "code",
   "execution_count": 71,
   "metadata": {},
   "outputs": [],
   "source": [
    "final_kcet_data = pd.DataFrame(all_dic)"
   ]
  },
  {
   "cell_type": "code",
   "execution_count": 72,
   "metadata": {},
   "outputs": [
    {
     "name": "stdout",
     "output_type": "stream",
     "text": [
      "Institute\n",
      "['M001  Bangalore Medical College, Bangalore'\n",
      " 'M003  Kempegowda Institute of Medical Sciences, Bangalore'\n",
      " 'M004  M.S.Ramaiah Medical College, Bangalore'\n",
      " 'M005  Khaja Bande Navaz Institute Of Medical Sciences, Gulbarga'\n",
      " 'M008  M.V.J.Medical College and Research Hospital, Channasandra, Bangalore'\n",
      " 'M009  Vydehi Institute of Medical Science and Research Centre, Bangalore'\n",
      " 'M010  A.J.Institute of Medical Sciences, Mangalore'\n",
      " 'M020  Sri Basaveshwara Medical College and Hospital, Chitradurga'\n",
      " 'M021  Mysore Medical College, Mysore'\n",
      " 'M023  Adichunchanagiri Institute of Medical Sciences, Bellur, Mandya Dist.'\n",
      " 'M024  Mandya Institute of Medical Sciences, Mandya'\n",
      " 'M025  Hassan Institute of Medical Sciences, Hassan'\n",
      " 'M031  Karnataka Institute of Medical Sciences, Hubli'\n",
      " 'M035  S. Nijalingappa Medical College and Research Centre, Bagalkot'\n",
      " 'M036  SDM College of Medical Sciences and Hospital, Dharwad'\n",
      " 'M037  Belgaum Institute of Medical Sciences, Belgaum'\n",
      " 'M042  Mahadevappa Rampure Medical College, Kalaburgi'\n",
      " 'M043  Navodaya Medical College, Raichur'\n",
      " 'M045  Raichur Institute of Medical Sciences, Raichur'\n",
      " 'M050  Father Muller Institute of Med. Education & Research, Mangalore'\n",
      " 'M051  Kasturba Medical College, Hampanakatta,Mangalore.'\n",
      " 'M053  K.S.Hegde Medical Academy, Mangalore'\n",
      " 'M054  K.Venkataramana Gowda Medical College and Hospital, Dakshina Kannada'\n",
      " 'M061  Jaya Jagadguru Murugharajendra Medical College, Davangere District'\n",
      " 'M062  Shymanuru Shivashankarappa Institute Of Medical Sciences, Davangere'\n",
      " 'M063  Shimoga Institute of Medical Sciences, Shimoga'\n",
      " 'M064  Sapthagiri Institute of Medical Sciences, Bangalore'\n",
      " 'M065  Srinivasa Institute of Medical Research Center, Mangalore'\n",
      " 'M066  ESI Medical College, Bangalore'\n",
      " 'M067  Subbaiah Institute of Medical Science, Shimoga'\n",
      " 'M068  BGS Global Institute of Medical Sciences, Kengeri, Bangalore'\n",
      " 'M069  Shridevi Institute of Medical Sciences and Research Hospital, Tumkur'\n",
      " 'M071  The Oxford Medical College Hospital and Research Center, Bangalore'\n",
      " 'M072  Gulbarga Institute of Medical Sciences, GULBARGA'\n",
      " 'M073  Koppal Institute of Medical Sciences, KOPPAL'\n",
      " 'M074  Gadag Institute of Medical Sciences, GADAG'\n",
      " 'M075  Chamarajanagar Institute of Medical Science, CHAMARAJANAGAR'\n",
      " 'M076  Karwar Institute of Medical Science, UTTARA KANNADA'\n",
      " 'M077  Kodagu Institute of Medical Sciences, MADIKERI'\n",
      " 'M078  Akash Institute of Medical Sciences and Research Centre, BANGALORE'\n",
      " 'M079  Kanachur Institute of Medical Sciences and Research Centre, MANGALORE'\n",
      " 'M081  East Point College of Medical Sciences and Research Center, Bangalore'\n",
      " 'M082  Shri Atal Bihari Vajpayee Institute of Medical Science, Bengaluru'\n",
      " 'M083  Dr. Chandramma Dayananda Sagar Institute of Medical Education, Harohalli hobli, Ramanagara'\n",
      " 'M084  Chikkaballapura Institute of Medical Science, Chikkaballapura'\n",
      " 'M088  G R Medical College and Research Center, Mangalore'\n",
      " 'M089  Jagadguru Gangadhar Mahaswamigalu Moorusavirmath Medical College, Dharwar'\n",
      " 'D101  Government Dental College, Bangalore'\n",
      " 'D102  Dr.M.R.Ambedkar Dental College and Hospital, Bangalore'\n",
      " 'D103  Vokkaligara Sangha Dental College and Hospital, Bangalore'\n",
      " 'D114  Raja Rajeshwari Dental College and Hospital, Bangalore'\n",
      " 'D115  Rashtreeya Vidyalaya Dental College, Bangalore'\n",
      " 'D116  Krishnadevaraya College of Dental Sciences,  Road, Bangalore'\n",
      " 'D117  Dr. Shyamala Reddy Dental College, Bangalore'\n",
      " 'D122  Vydehi Institute of Dental Sciences and Research Centre, Bangalore'\n",
      " 'D224  Farooquia Dental College, Mysore'\n",
      " 'D335  Maratha Mandal Dental College, Belgaum'\n",
      " 'D336  PM Nadagowda Memorial Dental College and Hospital, Bagalkot'\n",
      " 'D337  Sri Dharmasthala Manjunatheswara Dental College, Dharwad'\n",
      " 'D446  Academy of Medical Education Dental College, Raichur'\n",
      " 'D448  Government Dental College and Research Institute, Bellary'\n",
      " 'D555  K.Venkataramana Gowda Dental College Hospital and Research Centre, Dakshina Kannada'\n",
      " 'D556  A.J. Institute of Dental Sciences, Mangalore'\n",
      " 'D557  Srinivasa Institute of Dental Science, Mangalore'\n",
      " 'D661  Bapuji Dental College and Hospital, Davangere'\n",
      " 'D662  College of Dental Sciences, Davangere'\n",
      " 'D663  Sharavathi Dental College, Shimoga'\n",
      " 'D665  Subbaiah Institute of Dental Sciences, Shimoga'\n",
      " 'I701  Govt. Ayurveda Medical College, Bangalore'\n",
      " 'I703  Sri Kalabyraweshwara Ayurvedic Medical College and Hospital, Bangalore'\n",
      " 'I704  Ramakrishna Ayurveda Medical College, Bangalore'\n",
      " 'I705  Sushrutha Ayurveda Medical College and Hospital, Anekal Taluk, bangalore'\n",
      " 'I707  TAME Society`s Ayurvedic Medical College, Shimoga Dist.'\n",
      " 'I713  Government Ayurveda Medical, Mysore'\n",
      " 'I714  S.D.M College of Ayurveda and Hospital, Hassan'\n",
      " 'I715  A.L.N Rao Memorial Ayurvedic Medical College, Chikmagalur Dist'\n",
      " 'I718  Karnataka Ayurvedic Medical College, Mangalore'\n",
      " 'I719  S.D.M.Ayurveda College, Udupi Dist'\n",
      " 'I720  Alvas Ayurvedic Medical College, Dakshina Kannada'\n",
      " 'I722  J G Co-Op. Society`s Ayurvedic Medical College, Dist - Belgaum'\n",
      " 'I728  Ayurveda Mahavidyalaya Hospital, HUBLI, DHARWAD(D)'\n",
      " 'I729  Mahaganapathi Ayurvedic Medical College, Dharwad'\n",
      " 'I730  D.G.M.Ayurvedic Medical College, Dr S V Savadi Road,Gadag'\n",
      " 'I733  Rajiv Gandhi Ayurvedic Medical College, Gadag Dist.'\n",
      " 'I734  Sindhagi Shantaveereshwara Ayurvedic Medical College, Haveri'\n",
      " 'I742  Mahaveera Pulakeshi Ayurvedic Medical College, Bagalkot Dt.'\n",
      " 'I743  Sri Basaveshwara Vidyavrdhaka Sangha Ayurvedic Medical College, Bagalkot'\n",
      " 'I744  Shikshana Prasaraka Samitis Dhanwanthri Ayurvedic Medical College, Uttara Kannada- Dist'\n",
      " 'I747  Gavisiddeshwara Society`s Ayurveda College, Koppal Dist'\n",
      " 'I754  Sri Sri College Of Ayurvedic Science and Research Center, Bangalore'\n",
      " 'I755  Ashwini Ayurvedic Medical College, Tumkur'\n",
      " 'I757  S.D.M.Trust Ayurvedic Medical College, Terdal'\n",
      " 'I758  SMVVS Rajeshwari Karpurmath Memorial Ayurvedic Medical College, Behind KC Nagar, Bijapur'\n",
      " 'I761  Sri Raghavendra Ayurvedic Medical College,  Chitradurga DT.'\n",
      " 'I762  Athreya Ayurvedic Medical College,  Bangalore Rural'\n",
      " 'I764  Sri Dharmasthala Manjunatheshwara Institute Of Ayurveda Hospital, BANGALORE'\n",
      " 'I771  K.T.G. AYURVEDIC MEDICAL COLLEGE AND HOSPITAL, VISHWANEEDAM POST, BANGALORE'\n",
      " 'I772  DR. B.N.M. RURAL AYURVEDA MEDICAL COLLEGE, COLLEGE ROAD, BIJAPUR'\n",
      " 'I774  Sri Paripoorna Sanathana Ayurveda Medical College Hospital, Nelamangala(T),Bangalore'\n",
      " 'I776  KRISHNA AYURVEDIC MEDICAL COLLEGE AND HOSPITAL, SANKESHWAR, BELGAUM DT'\n",
      " 'I780  Government Ayurvedic Medical College, Shivamoga'\n",
      " 'I781  Adichunchanagiri Ayurveda Medical College,Hospital and Research, Nelamangala, Bangalore'\n",
      " 'I784  Sharada Ayurveda Medical College and Hospital, Mangalore'\n",
      " 'I785  Kundapura Rural Ayurveda Medical College and Hospital , Koteshwara, Kundapura'\n",
      " 'I792  Dr.Ravi Patil Ayurveda Medical College and Hospital, Belagavi'\n",
      " 'I801  Govt. Homoeopathy Medical College, Bangalore'\n",
      " 'I803  Father Mullers Homoeopathy Medical College, Mangalore'\n",
      " 'I804  A.M.Sheik Homoeopathy Medical College, Belgaum'\n",
      " 'I805  Bharatesh Homoeopathy Medical College, Belgaum'\n",
      " 'I809  Dr.B.D.Jatti Homoeopathy Medical College, Dharward'\n",
      " 'I817  Alvas`s Homeopathic Medical College, Dakshina Kannada'\n",
      " 'I901  Govt. Unani Medical College, Bangalore'\n",
      " 'I904  Luqman Unani Medical College, BIJAPUR'\n",
      " 'Y911 S.D.M.College Of Naturopathy and Yogic Science, Dakshina Kannnada DIST'\n",
      " 'Y912 Alvas Education Trust Nature Cure & Yogic College, MOODBIDRI, D K'\n",
      " 'Y914 Government Nature Cure And Yoga College, MYSORE'\n",
      " 'Y915 Swamy Vivekananda Yoga Anusandhana Samsthana, BANGALORE'\n",
      " 'Y918 G. Madegowda Institute of Naturopathy and Yogic Science, Bharathinagara, Maddur, Mandya'\n",
      " 'Y919 Sharada Yoga and Naturopathy Medical College, Mangalore'\n",
      " 'B001  Government College of Pharmacy  Bangalore'\n",
      " 'B002  Acharya and BM Reddy College of Pharmacy  Bangalore'\n",
      " 'B003  Al-Ameen College of Pharmacy  Bangalore'\n",
      " 'B004  Aditya Bangalore Institute of Pharmacy Educ and Research Center\\n Bangalore'\n",
      " 'B005  B.V.V.Sanghas Hangal Shri Kumareshwar College of Pharmacy\\nBagalkot'\n",
      " 'B006  Bapuji College of Pharmacy  Davangere'\n",
      " 'B008  Bharathi College of Pharmacy   Mandya'\n",
      " 'B009  BLDEAs College of Pharmacy  Vijapur'\n",
      " 'B010  Oxbridge  College of Pharmacy   MAGADI RD, Bangalore'\n",
      " 'B012  Dayananda Sagar Institute of Pharmacy    Bangalore'\n",
      " 'B015  East West College of Pharmacy   Bangalore'\n",
      " 'B016  East Point College of Pharmacy   Bangalore'\n",
      " 'B017  Farooqia College of Pharmacy   Mysore'\n",
      " 'B018  Gautham College of Pharmacy   Bangalore'\n",
      " 'B019  Hill SideCollege of Pharmacy and Research Center   Bangalore'\n",
      " 'B022  Karavali College of Pharmacy   Mangalore'\n",
      " 'B023  Karnataka College of Pharmacy   Bangalore'\n",
      " 'B024  Karnataka College of Pharmacy  BIDAR'\n",
      " 'B027  Krupanidhi College of Pharmacy   Bangalore'\n",
      " 'B030  M.S. Ramaiah Univerisity of Applied Sciences  NAGAR BANGALORE'\n",
      " 'B035  National College of Pharmacy    Shimoga'\n",
      " 'B037  PES College of Pharmacy   Bangalore'\n",
      " 'B038  Priyadarshini College of Pharmacy   Tumkur'\n",
      " 'B039  R.R.College of Pharmacy  STN, CHIKKABANAVARA, BANGALORE'\n",
      " 'B042  Rani Chennama College of Pharmacy   Belgaum'\n",
      " 'B046  Sridevi College of Pharmacy   Mangalore'\n",
      " 'B047  SJM College of Pharmacy   Chitradurga'\n",
      " 'B048  Soniya Education Trusts College of Pharmacy   Dharwad'\n",
      " 'B050  Sri Adichunchanagiri College of Pharmacy   Mandya'\n",
      " 'B051  Sri Raghavendra College of Pharmacy  KOTHONUR-POST, BANGALORE'\n",
      " 'B052  Sri K.V. College of Pharmacy   Chikkaballapura'\n",
      " 'B053  Srinivas College of Pharmacy   Mangalore'\n",
      " 'B055  T. John College of Pharmacy   Bangalore'\n",
      " 'B056  The Oxford College of Pharmacy   Bangalore'\n",
      " 'B058  V.L. College of Pharmacy   Raichur'\n",
      " 'B059  V.V. Puram Institute of Pharmaceutical Sciences   Bangalore'\n",
      " 'B060  Vivekananda College of Pharmacy  BANGALORE'\n",
      " 'B062  IKON Pharmacy College  Bheemanahalli, Bidadi'\n",
      " 'B066  P A College of Pharmacy  Bantwal Taluk, Mangalore'\n",
      " 'B067  Rajputana College of Pharmacy  Mariyannapalya, Bangalore'\n",
      " 'B069  A.G.M. College of Pharmacy  Hubli'\n",
      " 'B073  MVM College of Pharmacy  Yelahanka, Bangalore'\n",
      " 'B076  Spurty College of Pharmacy  Anekal Taluk, Bengaluru Urban'\n",
      " 'B077  Sridevi Institute of Pharmaceutical Sciences  Tumakuru'\n",
      " 'B080  Aadya College of Pharmacy  Chitradurga'\n",
      " 'B085  Cauvery College of pharmacy Alanahalli  Mysore'\n",
      " 'B090  Harsha College of Pharmacy Nelamangala  Bengaluru Rural'\n",
      " 'B096  Sri Ragahavendra College of Pharmacy  Chitradurga-90'\n",
      " 'B100  Vaasudhara College of Pharmacy  Hoskote,Bangalore Rural'\n",
      " 'B101  Varadaraja Institute of Pharmaceutical Education and Research\\nTumakuru'\n",
      " 'F001  Dairy Science College  Bangalore'\n",
      " 'F002  Dairy Science College  Kalaburagi'\n",
      " 'F003  College of Agriculture  Hassan'\n",
      " 'F004  College of Fisheries  Mangalore'\n",
      " 'F005  College of Agriculture  GKVK, Bangalore'\n",
      " 'F006  College of Community Science   Dharwad'\n",
      " 'F007  College of Agriculture  Dharwad'\n",
      " 'N001  College of Agriculture  GKVK Campus , Bangalore'\n",
      " 'N002  College of Agriculture  VC Farm, Mandya'\n",
      " 'N003  College of Agriculture  Hassan'\n",
      " 'N004  Sericulture College  Chikkaballapur T&D, Chintamani'\n",
      " 'N005  College of Agriculture  Navile, Shimoga'\n",
      " 'N006  College of Horticulture  Bagalkot'\n",
      " 'N008  KRC College of Horticulture  Arabhavi,  Gokak-TQ,  Belgaum'\n",
      " 'N010  College of Horticulture   Mysore'\n",
      " 'N011  College of Horticulture  Sirsi, Utttara Kannada dist'\n",
      " 'N013  College of Horticulture  Mudigere'\n",
      " 'N014  College of Horticulture  Hiriyur'\n",
      " 'N015  College of Forestry  Kodagu- Dist'\n",
      " 'N016  College of Agriculture  Dharwad'\n",
      " 'N017  College of Agriculture  VIJAYAPUR'\n",
      " 'N018  College of Agriculture  Hanumanamatti, Haveri-Dist'\n",
      " 'N019  College of Forestry  Dist- Uttarakannada'\n",
      " 'N020  College of Community Science   Dharwad'\n",
      " 'N022  College of Agriculture  Raichur'\n",
      " 'N026  College of Horticulture  Bangalore'\n",
      " 'N027  College of Horticulture Engineering and Food Technology\\nDevihosur, Haveri'\n",
      " 'N028  College of Agriculture  KVK, Chamarajanagar(D)'\n",
      " 'N029  College of Agriculture  Iruvakki, Shimoga'\n",
      " 'S001  College of Agriculture  GKVK Campus, Bangalore'\n",
      " 'S025  College of Agricultural Engineering  Raichur'\n",
      " 'V001  Veterinary College  Bangalore' 'V002  Veterinary College   Bidar'\n",
      " 'V003  Veterinary College  Shimoga' 'V004  Veterinary College  Hassan'\n",
      " 'ENGINEERING CUTOFF RANK OF CET-2021 - SECOND ROUND ALLOTMENT ( GENERAL )'\n",
      " 'E002  S K S J T Institute of Engineering.  Bangalore'\n",
      " 'E003  B M S College of Engineering  Basavanagudi,Bangalore'\n",
      " 'E004  Dr. Ambedkar Institute Of Technology  Bangalore'\n",
      " 'E005  R. V. College of Engineering  Bangalore'\n",
      " 'E006  M S Ramaiah Institute of Technology  Bangalore'\n",
      " 'E007  Dayananda Sagar College of Engineering   Bangalore'\n",
      " 'E008  Bangalore Institute of Technology  Bangalore'\n",
      " 'E009  P E S University (Ring Road Campus)  Bangalore'\n",
      " 'E011  M V J College of Engineering  Bangalore'\n",
      " 'E012  Sir M.Visveswaraya Institute of Technology  Hunasemaranahalli,Bangalore,'\n",
      " 'E013  Ghousia Engineering College  Ramanagara'\n",
      " 'E014  S J C Institute of Technology  Chickballapur'\n",
      " 'E015  Dr.T.Thimmaiah Institute of Technology  BANGARAPET -TQ kolar District'\n",
      " 'E016  Siddaganga Institute of Technology  Tumkur'\n",
      " 'E017  Sri Siddartha Institute of Technology  Tumkur'\n",
      " 'E018  Kalpatharu Institute of Technology  Tiptur'\n",
      " 'E021  Sri Jayachamarajendra College of Engineering(Const. of JSS Univ.)  Mysore'\n",
      " 'E022  The National Institute of Engineering  Mysore'\n",
      " 'E023  P E S College of Engineering  Mandya'\n",
      " 'E024  Malnad College of Engineering  Hassan'\n",
      " 'E028  Tontadarya College of Engineering  Gadag'\n",
      " 'E029  Maratha Mandal Engineering College  Belgaum'\n",
      " 'E030  KLE Technological University(Formerly BVBCET)  Hubli'\n",
      " 'E031  Basaveshwara Engineering College  Bagalkot'\n",
      " 'E032  R.T.E Socity`s Rural Engineering College  Hulkoti'\n",
      " 'E033  Sri Taralabalu Jagadguru Institute of Technology.  Ranebennur'\n",
      " 'E034  Sri Dharmasthala Manjunatheswara College of Engineering  Dharwad'\n",
      " 'E035  Anjuman Engineering College  Bhatkala, Uttar kannada Dist'\n",
      " 'E036  KLE Technological University(Formerly KLE Dr.MS Sheshagiri Col.)  Belgaum'\n",
      " 'E037  K.L.S. Gogte Institute of Technology  Belgaum'\n",
      " 'E038  B L D E As V.P. Dr. P. G. Hallakatti College of Engg. and Tech.  vijayapur'\n",
      " 'E040  Hira Sugar Institute of Technology  Belagavi District,'\n",
      " 'E041  P D A College of Engineering  Gulbarga'\n",
      " 'E042  Khaja Banda Nawaz University  Kalburgi'\n",
      " 'E043  Gurunanak Dev Engineering College  Bidar'\n",
      " 'E044  Bheemanna Khandre Institute of Technology  Bhalki'\n",
      " 'E045  Rao Bahadur Y.Mahabaleswarappa Engineering College  Bellari'\n",
      " 'E046  H K Es S L N College of Engineering  Raichur'\n",
      " 'E047  Malnad College of Engineering  Hassan'\n",
      " 'E048  B M S College of Engineering  Basavanagudi,Bangalore'\n",
      " 'E049  Basaveshwara Engineering College  Bagalkot'\n",
      " 'E053  N M A M Institutute of Technology  Nitte'\n",
      " 'E054  K V G College of Engineering  Sullia,D.K District'\n",
      " 'E055  P A College of Engineering  Bantwal, Mangalore'\n",
      " 'E056  The National Institute of Engineering  Mysore'\n",
      " 'E057  JSS Science and Technology University(Formerly SJCE)  Mysore'\n",
      " 'E058  P E S College of Engineering  Mandya'\n",
      " 'E059  P D A College of Engineering  Gulbarga'\n",
      " 'E060  Dr. Ambedkar Institute Of Technology  Jnanabharathi Campus,Bangalore'\n",
      " 'E061  University B.D.T. college of Engineering  Davangere'\n",
      " 'E062  Bapuji Institute of Engineering and Technology  Davangere'\n",
      " 'E063  S J M Institute of Technology  Chitradurga'\n",
      " 'E064  Adhichunchanagiri Institute of Technology  Chickmagalur'\n",
      " 'E065  Jawaharlal Nehru National College of Engineering  Shimoga'\n",
      " 'E070  Bahubali College of Engineering  Hassan Dist,'\n",
      " 'E071  Vidya Vardhaka College of Engineering  Mysuru'\n",
      " 'E075  Ballari Institute of Technology and Management  Near Allipur Bellary'\n",
      " 'E077  Vidya Vikas Institute of Engineering and Technology  Mysuru'\n",
      " 'E078  The Oxford College of Engineering  Bangalore'\n",
      " 'E079  Acharya Institute of Technology  Bangalore'\n",
      " 'E081  H M S Institute of Technology  Tumkur'\n",
      " 'E082  J S S Academy of Technical Education  Bangalore'\n",
      " 'E083  H.K.B.K.College of Engineering  Bangalore'\n",
      " 'E085  APS College of Engineering  Somanahalli, Bangalore'\n",
      " 'E086  Sri Sairam College of Engineering(Formerly Shirdi Sai Engg)  Anekal,Bangalore'\n",
      " 'E087  Vivekananada Institute of Technology  Bangalore'\n",
      " 'E088  Bangalore College of Engineering and Technology  Chandapura, Bangalore'\n",
      " 'E090  Sri Revana Siddeswara Institute of Technology  Bangalore North'\n",
      " 'E091  K S Institute of Technology  Bangalore'\n",
      " 'E092  Vemana Institute of Technology  Bangalore'\n",
      " 'E093  Basavakalyana Engineering College  Basavakalyana, Bidar-Dist'\n",
      " 'E094  Coorg Institute of Technology  Kodagu'\n",
      " 'E095  AMC Engineering College  Bangalore'\n",
      " 'E096  East Point College of Engineering and Technology  Bangalore'\n",
      " 'E097  C M R Institute of Technology  Bangalore'\n",
      " 'E098  Atria Institute of Technology  Bangalore'\n",
      " 'E099  New Horizon College of Engineering  Bangalore'\n",
      " 'E100  K N S Institute of Technology  Bangalore'\n",
      " 'E101  Channabasaveshwara Institute of Technology  Gubbi, Tumkur'\n",
      " 'E102  DONBOSCO Institute of Technology  Bangalore'\n",
      " 'E103  Global Academy of Technology  Bangalore'\n",
      " 'E104  Nagarjuna College of Engineering and Technology  Bangalore (R)'\n",
      " 'E105  Nitte Meenakshi Institutute of Technology  Bangalore'\n",
      " 'E106  East West Institute of Technology  Bangalore'\n",
      " 'E107  B N M Institute of Technology  Bangalore'\n",
      " 'E108  Sapthagiri College of Engineering  Bangalore'\n",
      " 'E109  City Engineering College  Bangalore'\n",
      " 'E111  Sri Venkateshwara College of Engineering  Bettahalsur(P), Bangalore'\n",
      " 'E112  Sri Krishna Institute of Technology  Bangalore'\n",
      " 'E113  Sambhram Institute of Technology  Bangalore'\n",
      " 'E114  G M Institute of Technology  Davanagere'\n",
      " 'E115  S J B Institute of Technology  Kengeri,Bangalore'\n",
      " 'E116  R.L.Jalappa Institute of Technology  Bangalore Rural Dist'\n",
      " 'E118  RNS Institute of Technology  Bangalore'\n",
      " 'E120  Jnanavikasa Institute of Technology  Ramanagar-Dist'\n",
      " 'E121  Vivekananada College of Engineering Technology  D K DIST'\n",
      " 'E123  Canara Engineering College Bantwal  DK DIST'\n",
      " 'E124  Rajiv Gandhi Institute of Technology  R.T Nagar Post, Bangalore'\n",
      " 'E126  B M S Institute of Technology and Management  Yelahanka, Bangalore'\n",
      " 'E127  M S Engineering College  Bangalore Urban'\n",
      " 'E128  Sharnbasva University(Formerly Appa Inst. of Tech.)  Brahmpur, Kalaburagi'\n",
      " 'E129  St. Joseph Engineering College  Mangalore'\n",
      " 'E132  Secab Institute of Engineering and Technology  Bijapur'\n",
      " 'E133  G S S S Institute of Engineering and Technology for Women  Mysore'\n",
      " 'E134  Smt. Kamala and Sri Venkappa M.Agadi College of Engg. and Tech.  Laxmeshwara-Tq, Gadag Dt.'\n",
      " 'E135  K L S Viswanathrao Deshpande Institute of Technology  Haliyal, Uttara Kannada -Dist'\n",
      " 'E136  Moodalakatte Institute of Technology  Udupi District'\n",
      " 'E139  Impact College of Engineering and Applied Sciences  Bangalore'\n",
      " 'E141  P E S University (Electronic City Campus)  Bangalore'\n",
      " 'E142  Adichunchanagiri University(Formerly BGSIT)  Nagamangala Taluk,Mandya Dist.'\n",
      " 'E144  Srinivas Institute of Technology  Mangalore.'\n",
      " 'E145  Rajarajeswari College of Engineering  Kumbalagodu,Bangalore'\n",
      " 'E146  Shreedevi Institute of Technology  Kenjar, Mangalore'\n",
      " 'E147  T.John Engineering College  Bangalore'\n",
      " 'E149  Cambridge Institutute of Technology  Bangalore'\n",
      " 'E150  P E S Institute of Technology and Management   Shivamogga'\n",
      " 'E151  Mangalore Institute of Technology and Engineering  Mangalore Tq,D.K'\n",
      " 'E152  S D M Institute of Tech.  Ujire,Dakshina Kannada'\n",
      " 'E153  S E A College of Engineering and Technology  K R puram bangalore'\n",
      " 'E154  Government Engineering College  Chamarajanagara'\n",
      " 'E155  Government Engineering College  Hassan'\n",
      " 'E156  Government Engineering College  K R Pet, Mandya DT.'\n",
      " 'E157  Government Engineering College  Ramanagara'\n",
      " 'E158  Maharaja Institute of Technology-Mysore  Belawadi, Mandya Dist'\n",
      " 'E159  Karavali Institute of Technology  Mangalore'\n",
      " 'E160  Sahyadri College of Engg. and Management  Mangalore'\n",
      " 'E161  Government Engineering College  Kushalnagar,Kodagu Dist'\n",
      " 'E162  Government Engineering College  Raichur'\n",
      " 'E163  Government Engineering College  Devagiri,Haveri'\n",
      " 'E164  Government Engineering College  Huvina Hadagali,Bellary Dist.'\n",
      " 'E165  Yenepoya Institute of Technology  Thodar,Moodbidri'\n",
      " 'E166  K L E Institute of Technology  Hubli'\n",
      " 'E167  K L E Ss K L E College of Engineering and Technology  Chikkodi, Belgaum Dist.'\n",
      " \"E168  Amrutha Institute of Engineering and Mangement  Bidadi Indust. Estate,Ban'lore\"\n",
      " 'E169  Alva`s Institute of Engineering and Technology  Moodabidri,'\n",
      " 'E171  Brindavan College of Engineering  Yelahanka, Bangalore'\n",
      " 'E172  R.R.Institute of Technology  Chikkabanavara, Bangalore'\n",
      " 'E173  Sai Vidya Institute of Technology  Bangalore'\n",
      " 'E175  S.G.Balekundri Institute of Technology  Belgaum'\n",
      " 'E176  Navodaya Institute of Technology  Raihcur'\n",
      " 'E177  Rajeev Institute of Technology  Bommanayankanahally, Hassan'\n",
      " 'E178  N I E Institute of Technology  Mysore'\n",
      " 'E180  Bearys Institute of Technology  Mangalore'\n",
      " 'E183  Sha-Shib College of Engineering  Chickballapur'\n",
      " 'E184  C Byre Gowda Institute of Technology  Kolar'\n",
      " 'E185  Angadi Institute of Technology and Management  Belgaum'\n",
      " 'E186  ACS College of Engineering  Kengeri Hobli,Bangalore'\n",
      " 'E188  Vijaya Vittala Institute of Technology   Bangalore'\n",
      " 'E189  Navkis College of Engineering (Formerly NDRKIT)  Kandali, Hassan'\n",
      " 'E191  Akshaya Institute of Technology  Tumkur'\n",
      " 'E193  Srinivas University  Mukka, Suratkal, Mangalore'\n",
      " 'E194  Government Engineering College  KARWAR'\n",
      " 'E196  Jain College of Engineering  Machche,Belgaum'\n",
      " 'E197  Veerappa Nisty Engineering College  Yadigir Dist'\n",
      " 'E198  Sharnbasva University College for Women(Formerly Godutai)  Gulbarga'\n",
      " 'E199  AGM Rural Engineering College  Hubli, Darward (D)'\n",
      " 'E201  Gopalan College of Engineering and Management  White Field, Bangalore'\n",
      " 'E203  K.S. School of Engineering And Management  Mallasandra, Bangalore'\n",
      " 'E204  Bangalore Technological  Institute  Sarjapura Rd, Bangalore'\n",
      " 'E205  ATME College of Engineering  Varun  hobli,Mysore'\n",
      " 'E206  Shri Madhwa Vadiraja Institute of Technology and Management  Udupi Dist'\n",
      " 'E207  VSMs Somashekar R Kothiwale Institute of Technology  Nippani, Belgaum- Dist'\n",
      " 'E208  Achutha Institute of Technology  Bangalore'\n",
      " 'E209  Jyothi Institute of Technology  Bangalore'\n",
      " 'E210  G Madegowda Institute of Technology  Maddur Taluk, Mandya  DIST'\n",
      " 'E211  Jain Institute of Technology  Cross,Davanagere'\n",
      " 'E212  Dayananda Sagar Academy of Technology  Kanakapur Main Road Bangalore'\n",
      " 'E213  Lingarajappa Engineering College  Bidar'\n",
      " 'E216  Shetty Institute of Technology  Gulbarga'\n",
      " 'E219  Mangalore Marine College and Technology   Mangalore'\n",
      " 'E220  Alliance University  Bangalore'\n",
      " 'E222  Cambridge Institutute of Technology-North Campus  Devanahalli(TQ),Bangalore(R)'\n",
      " 'E227  Cauvery Institute of Technology  Mandya tq'\n",
      " 'E232  Reva University  Bangalore'\n",
      " 'E235  M.S. Ramaiah University of Applied Sciences  Bangalore'\n",
      " 'E237  Presidency University  Yelahanka, Bangalore'\n",
      " 'E238  Mysuru Royal Institute of Technology  Mandya (D)'\n",
      " 'E239  East West College of Engineering  Yelahanka New Town, Bangalore'\n",
      " 'E240  Dayananda Sagar University  Hosur Road, Bangalore'\n",
      " 'E241  KLE Technological University(Formerly BVBCET)  Dharward Dist'\n",
      " 'E252  Mysore College of Engineering and Management  Mysore'\n",
      " 'E254  A J Institute Of Engineering And Technology  MANGALORE'\n",
      " 'E255  Gitam School Of Technology  BANGALORE RURAL DIST'\n",
      " 'E257  CMR University  CHAGALATTI, BANGALORE'\n",
      " 'E258  Maharaja Institute of Technology  THANDAVAPURA, MYSORE'\n",
      " 'E265  Jain College of Engineering and Technology  Hubballi'\n",
      " 'E269  Jain College of Engineering and Research  Udyambhag, Belgaum'\n",
      " 'E272  Government Engineering College  Talakal,Koppal'\n",
      " 'E273  Government Engineering College  Viprasainagar, Gangavathi'\n",
      " 'E274  Government Engineering College  Moselehosahalli,Hassan'\n",
      " 'E275  R V Institute of Technology and Management  JP Nagar, Bengaluru'\n",
      " 'E278  Visvesvaraya Technological University  Muddenahalli,Chickkaballapur'\n",
      " 'E279  Visvesvaraya Technological University  Belgaum'\n",
      " 'E281  Government Engineering College  Challakere,Chitradurga'\n",
      " 'E283  University of Mysore  Mysore'\n",
      " 'E284  Sri Jayachamarajendra College of Engineering(Const. of JSS Univ.)  Mysore'\n",
      " 'E001  UVCE  Bangalore' 'E006  MSRIT (ATNMS)  Bangalore'\n",
      " 'E037  KLSGIT (ATNMS)  Belgaum' 'E228  MSA  Lingabodi,Mysore'\n",
      " 'E241  KLETU  Dharward Dist' 'E244  RVCA  Chikkegowdanapally,Bangalore'\n",
      " 'E248  WCFA  Mysuru' 'E266  BMSCA  BMSCE Campus,Bangalore'\n",
      " 'E276  SADSCE  Bangalore'\n",
      " 'I911 S.D.M.College Of Naturopathy and Yogic Science, Dakshina Kannnada DIST'\n",
      " 'I912 Alvas Education Trust Nature Cure & Yogic College, MOODBIDRI, D K'\n",
      " 'I914 Government Nature Cure And Yoga College, MYSORE'\n",
      " 'I915 Swamy Vivekananda Yoga Anusandhana Samsthana, BANGALORE'\n",
      " 'I918 G. Madegowda Institute of Naturopathy and Yogic Science, Bharathinagara, Maddur, Mandya'\n",
      " 'I919 Sharada Yoga and Naturopathy Medical College, Mangalore'\n",
      " 'E212  DSAT  Kanakapur Main Road Bangalore'\n",
      " 'E215  BMSSA  Yalahanka, Bangalore' 'E260  NITTE SA  YELAHANKA BANGALORE'\n",
      " 'E268  RNSSA  Bangalore'\n",
      " 'E001 University Visveswariah College of Engineering Bangalore'\n",
      " 'N007  College of Horticulture  Bidar'\n",
      " 'N012  College of Horticulture  Munirabad, Koppal Dist'\n",
      " 'N023  College of Agriculture  Tq - Shahapur, Dist - Yadgiri'\n",
      " 'N024  College of Agriculture  KALABURAGI'\n",
      " 'ENGINEERING CUTOFF RANK OF CET-2021 - SECOND ROUND ALLOTMENT ( HYD-KAR )'\n",
      " 'E076  Proudadevaraya Institute of Technology  Indiranagar Hospet, Ballari DT'\n",
      " 'B020  H.K.E. Societys College of Pharmacy  KALBURAGI'\n",
      " 'B025  K.C.T. College of Pharmacy  GULBARGA'\n",
      " 'B041  Rajivs Memorial College of Pharmacy   Gulbarga'\n",
      " 'B043  S.V.E.Ts College of Pharmacy  BIDAR'\n",
      " 'B044  Sharada Vilas College of Pharmacy   Mysore'\n",
      " 'B045  SCS College of Pharmacy,  Harapanahalli   Davangere'\n",
      " 'B083  Aryan College of Pharmacy  Aland, Kalburgi'\n",
      " 'B089  Dr.Syed Rahmat Ullah Institute of Pharmaceutical Sciences\\nKalaburagi'\n",
      " 'D108  AECS Maruti College of Dental Sciences and Research Centre, Bangalore'\n",
      " 'I724  S.G.V.Ayurvedic Medical College, Bailahongala, Belgaum-Dist'\n",
      " 'I767  Prasanna College of Ayurveda and Hospital, Belathangady'\n",
      " 'I819  BVV SANGHA BVVS HOMOEOPATHIC MEDICAL COLLEGE AND HOSPITAL, BAGALKOT'\n",
      " 'B057  Togari Veeramallppa Memorial College of Pharmacy   Bellary'\n",
      " 'B072  MMJ College of Pharmacy   Haveri'\n",
      " 'B092  S S Sainath College Of Pharmacy  Bidar'\n",
      " 'M002  Dr. B.R. Ambedkar Medical College, Bangalore'\n",
      " 'M033  Al-Ameen Medical College, VIJAYAPUR'\n",
      " 'M041  Vijayanagar Institute of Medical Sciences, Bellary'\n",
      " 'M044  Bidar Institute of Medical Sciences, Bidar'\n",
      " 'D104  M.S.Ramaiah Univerisity of Applied Sciences, Bangalore'\n",
      " 'D113  Sri Rajiv Gandhi Dental College, Bangalore'\n",
      " 'D118  Bangalore Institute of Dental Sciences & Hospital, Bangalore'\n",
      " 'D119  K L E S Institute of Dental Sciences, Bangalore'\n",
      " 'I712  J.S.S.Ayurvedic Medical College, Mysore'\n",
      " 'I716  K.V.G.Ayurvedic Medical College, Dakshina Kannada-Dist'\n",
      " 'I717  Muniyal Institute Of Ayurveda Medical Sciences, Udupi Dist.'\n",
      " 'I741  Bahubali Vidyapeetha JV Mandals Grameena Ayurveda College, Terdal, Bagalkot'\n",
      " 'I768  Dr.N.A. Magadum Ayuvrvedic Medical College and Hospital, Belgaum'\n",
      " 'I789  Sushtutha Institute of Ayurveda Medical Sciences and Research, Davanagere'\n",
      " 'I816  Sri Sathyasai College of Homeopathic Medicine, Dharwad'\n",
      " 'B029  M.M.U College of Pharmacy  RAMANAGARA'\n",
      " 'B031  Mallige College of Pharmacy   Bangalore'\n",
      " 'B034  Nargund College of Pharmacy   Bangalore'\n",
      " 'B049  Sree Siddaganga College of Pharmacy   Tumkur'\n",
      " 'B064  K R College of Pharmacy  Bangalore'\n",
      " 'B070  Green City College of Pharmacy  Sathanur, Bangalore'\n",
      " 'B088  Dr.NB Institute of Pharmacy  Chitradurga'\n",
      " 'V005  Veterinary College   Gadag'\n",
      " 'B063  MAM College of Pharmacy  Gulbarga'\n",
      " 'M022  Jagadguru Sri Shivarathreeswara Medical College, Mysore'\n",
      " 'M032  Jawaharalal Nehru Medical College, Belgaum'\n",
      " 'M052  Yenepoya Medical College, Mangalore'\n",
      " 'M070  ESI Medical College, Gulbarga'\n",
      " 'D112  Oxford Dental College, Bangalore'\n",
      " 'D120  Venkateswara Dental College, Bangalore'\n",
      " 'D121  K.G.F. College of Dental Sciences, K.G.F.'\n",
      " 'D225  Sri. Hasanamba Dental College and Hospital, Hassan'\n",
      " 'D333  Al-Ameen Dental College, Bijapur'\n",
      " 'D442  Hyderabad Karnataka Education Societies Dental College, Gulbarga'\n",
      " 'D445  S.B.Patil Institute for Dental Sciences and Research, Bidar'\n",
      " 'D447  Navodaya Dental College, Raichur'\n",
      " 'D664  Sri Jagadguru Murugharajendra Dental College & Hospital, Chitradurga'\n",
      " 'D666  Employees State Insurance Corporation Dental College, Gulbarga'\n",
      " 'I702  Indian Institute Of Ayurvedic Medicine and Research, Bangalore'\n",
      " 'I706  Bapuji Ayurvedic Medical College, Savalanaga Road,Shimoga'\n",
      " 'I708  Amrutha Ayurvedic Medical College, Chitradurga'\n",
      " 'I709  Bapuji Ayurvedic Medical College, Chitradurga - Dist'\n",
      " 'I710  Ashwini Ayurvedic Medical College, Davanagere'\n",
      " 'I721  Sri Shivayogishwara Rural Ayurveda Medical College, Inchala,Belgaum(D)'\n",
      " 'I727  LATTHE Education Societys Acharya Desh bhusan Ayurveda College, Bedkihal'\n",
      " 'I732  Bhagavan Mahaveer Jain Ayurvedic Medical College,PG Center, Gadag Dist.'\n",
      " 'I735  Ayurvedic Mahavidyalaya, Bijapur'\n",
      " 'I739  Sri Vijayamahantesha Ayurveda Medical College, Bagalkot- Dist'\n",
      " 'I740  Sri Kalidasa Ayurvedic Medical College, Badami'\n",
      " 'I745  Sri Hingalambika Education Trust Ayurvedic Medical College, Gulbarga'\n",
      " 'I746  Kalmatha Sri Virupaksha Shivacharya Ayurvedic Medical College, Manvi,Raichur(D)'\n",
      " 'I750  Taranatha Govt. Ayurveda Medical College, Bellary'\n",
      " 'I751  T.M.A.E.Ayurvedic Medical College, Hospet'\n",
      " 'I753  Sri C.B.Guttal Ayurvedic Medical College, Dharwad'\n",
      " 'I763  Shri Siddhivinayaka Rural Ayurvedic Medical College, Belgaum- Dist,'\n",
      " 'I765  Tapovana Ayurvedic Medical College and Hospital, DAVANGERE'\n",
      " 'I766  Hillside Ayurveda Medical College, Kanakapur Road,Bangalore'\n",
      " 'I769  Sharada Ayurvedic Medical College and Hospital, Yadgiri'\n",
      " 'I770  Akkamahadevi Ayurvedic Medical College and Reaserch Center, Bidar'\n",
      " 'I773  Yellalinga Edu. Trust Sri Siddeshrameshwara Ayurveda Medical Coll, Naubad, Bidar'\n",
      " 'I775  SANJEEVINI AYURVEDA MEDICAL COLLEGE AND HOSPITAL, Gokul Road, Hubballi'\n",
      " 'I777  KARAVALI AYURVEDIC MEDICAL COLLEGE, HOSPITAL RESEARCH CENTRE, BANGRA, MANGALORE'\n",
      " 'I778  H.K.D.E.Ts, Rajarajeshwari Ayurvedic Medical College and Hospital, Humnabad'\n",
      " 'I779  Jain AGM Ayurveda Medical College and Hospital, Varur'\n",
      " 'I782  Rajeev Institute of Ayurvedic Medical Sciences, Hassan'\n",
      " 'I783  DBAETs S.B.G. Ayurvedic Medical College Hospital, Ganeshpur Road, Belagavi'\n",
      " 'I786  Shri Basaveshwara Ayurvedic Medical College, Kalaburgi'\n",
      " 'I787  MRN Ayurvedic Medical College Hospital and Research Centre, Navanagar,Bagalkot'\n",
      " 'I788  Neelganga Ayurvedic Medical College Hospital and Research Centre, Yarbbag, Basavkalyan'\n",
      " 'I791  Achutha Ayurveda Medcial College Hospital and Research Center, Baglur Post, Bangalore'\n",
      " 'I793  Swamy Vivekananda Ayurveda Medical College and Hospital, Lingasugur, Raichur'\n",
      " 'I802  Bhagavan Budha Homoeopathy Medical College,  Mallathahalli BANGALORE'\n",
      " 'I806  S.C.S.E.S Shivabasavajyothi Homoeopathy Medical College, Ram Nagar , Belgaum'\n",
      " 'I812  H.K.E.Society Homoeopathy Medical College, Gulbarga'\n",
      " 'I818  Rosy Royal Homoeopathy Medical College and Hospital, Nelamangala, Bangalore'\n",
      " 'I820  A.G.M. HOMOEOPATHIC MEDCIAL COLLEGE AND HOSPITAL, VARUR - HUBALLI'\n",
      " 'I821  Anuradha Homoeopathic Medical College and Hospital, Srigandakaval, Bangalore'\n",
      " 'I902  Tippu Sultan Shahid Education Trust Unani Medical College, GULBARGA'\n",
      " 'I903  H.M.S.Education Society Unani Medical College, Tumkur'\n",
      " 'I905  Inamdar Unani Medical College Hospital, Kalaburgi'\n",
      " 'Y916 Shri Jagadguru Gurusiddeshwara Co-Op Hospital Society, Ghataprabha,Belgaum(D)'\n",
      " 'Y917 Tapovana Medical College of Naturopathy and Yogic Sciences, Harihara, Davengere'\n",
      " 'Y920 Muniyal Institute of Yoga and Naturopathy, Manipal, Mangalore'\n",
      " 'Y921 Yenepoya Naturopathy and Yoga Medical College Hospital, Mangalore'\n",
      " 'Y922 M.V.M College of Naturopathy and Yogic Science, Bangalore'\n",
      " 'B007  Basaveshwara College of Pharmacy  BIDAR'\n",
      " 'B013  Dr. Karigowda College of Pharmacy   Hassan'\n",
      " 'B014  Dr.H.L. Thimmegowda College of Pharmacy  CHANNAPATNA'\n",
      " 'B021  K.L.E.S.s College of Pharmacy   NIPPANI'\n",
      " 'B028  Luqman College of Pharmacy   Gulbarga'\n",
      " 'B032  Maratha Mandal College of Pharmacy   Belgaum'\n",
      " 'B036  Noorie College of Pharmacy   KGF'\n",
      " 'B054  St. Johns College of Pharmacy   Bangalore'\n",
      " 'B061  MES College of Pharmacy,  Yelahanka   Bangalore'\n",
      " 'B065  Akshaya Education Trust., Akshaya Instute of pharmacy  Obalapur\\nPost, Tumkur'\n",
      " 'B068  Surya College of Pharmacy  Bangalore'\n",
      " 'B071  GM Institute of Pharmaceutical Sciences   Davangere'\n",
      " 'B074  Nitte College of Pharmaceutical Sciences  Yelahanka, Bangalore'\n",
      " 'B075  Rosy Royal College of Pharmacy  Nelamangala, Bangalore Rural'\n",
      " 'B078  Vydehi Institute of Pharmacy  Whitefield, Bangalore'\n",
      " 'B081  Abhinava Bharathi College of Pharmacy  Mandya'\n",
      " 'B091  Neelsaroj Institute of Pharmacy  Bangalore'\n",
      " 'B093  S.B.D. Institute of Pharmacy  Bengalore'\n",
      " 'B094  Sree Krishna College of Pharmacy  Tumkur'\n",
      " 'B095  Sri Sharanabasaveshwar college of Pharmacy  Vijayapura'\n",
      " 'B098  Sri Siddhalingeshwar College of Pharmacy  Bidar'\n",
      " 'B099  St. Mary s College of Pharmacy  Chitradurga'\n",
      " 'B102  Vidya Siri College of Pharmacy  Chikkakannali, Bengaluru'\n",
      " 'N009  College of Horticulture  Kolar'\n",
      " 'N030  College of Agriculture  Gangavathi, Koppal'\n",
      " 'E119  K C T Engineering College  Roza(B),Gulbarga'\n",
      " 'E202 Sampoorna Institute of Technology and Research Ramanagara (D)'\n",
      " 'E217  Girijabai Sail Institute of Technology  Majali Village  Karwar'\n",
      " 'E221  Biluru Gurubasava Mahaswamiji Institute of Technology  Mudhol,Bagalkot- Dist'\n",
      " 'E260  Nitte School of Architecture  YELAHANKA BANGALORE'\n",
      " 'E009  PESIT (ATNMS)  Bangalore' 'E016  SIT (ATNMS)  Tumkur'\n",
      " 'I916 Shri Jagadguru Gurusiddeshwara Co-Op Hospital Society, Ghataprabha,Belgaum(D)'\n",
      " 'I917 Tapovana Medical College of Naturopathy and Yogic Sciences, Harihara, Davengere'\n",
      " 'I920 Muniyal Institute of Yoga and Naturopathy, Manipal, Mangalore'\n",
      " 'I921 Yenepoya Naturopathy and Yoga Medical College Hospital, Mangalore'\n",
      " 'I922 M.V.M College of Naturopathy and Yogic Science, Bangalore'\n",
      " 'E190  ANRVSA  Hesarghatta Main Road Banglore' 'E225  SJBSAAP  Bangalore'\n",
      " 'E232  RU  Bangalore' 'E245  CMRU  Bangalore'\n",
      " 'E130 Shridevi Institute of Engineering and Technology Tumkur'\n",
      " 'B033  N.E.T College of Pharmacy  RAICHUR'\n",
      " 'B040  R.R.K. Samithis College of Pharmacy   Bidar'\n",
      " 'B082  Aditya College of Pharmacy  Bhalki, Bidar Dist'\n",
      " 'B084  Ayesha College Of Pharmacy  Kalburagi'\n",
      " 'B086  Dhanvantri College of Pharmacy  Aland, Kalburgi'\n",
      " 'B087  Dr. Guruchar Nargund college Of Pharmacy  Yelburga Taluk Koppal\\nDist.'\n",
      " 'B097  Sri Shahu Maharaj College of Pharmacy  Naubad, Bidar'\n",
      " 'D111  Dayananda Sagar College of Dental Sciences, Bangalore'\n",
      " 'D551  Coorg Institute of Dental Sciences,  Coorg District'\n",
      " 'E246  OSA  Bangalore'\n",
      " 'D443  Al Badar Dental College and Hospital, Gulbarga'\n",
      " 'D444  HKDET`S Dental College Hospital, Humnabad, Bidar Dist'\n",
      " 'I790  Samatha Ayurveda Medical College, Kalaburgi'\n",
      " 'E174 Dr. Sri. Sri. Sri. Shivakumara Mahaswamyji College of Engineering Bangalore Rural -Dist,'\n",
      " 'E263  School of Planning and Architecture  Mysore'\n",
      " 'E038  BLDEACET  vijayapur' 'E039  MSIT  Bijapur'\n",
      " 'E059  PDACE (ATNMS)  Gulbarga' 'E144  SITM  Mangalore.'\n",
      " 'E224  ISA  Bangalore' 'E229  GSAP  Whitefield , Bangalore'\n",
      " 'E230  RRSA  Chikkabanvara, Bangalore' 'E242  BGSSAP  Campus, Bangalore'\n",
      " 'E247  BEADS  Boliyar-Post, Mangalore' 'E250  KSSA  Bangalore'\n",
      " 'E261  ASA  BELAGAVI' 'E263  SPA  Mysore'\n",
      " 'E267  SMVSA  Hunasamaranahalli, Bangalore'\n",
      " 'E270  SU(AR)  Brahmpur,kalaburagi' 'E280  GSSSSAW  Mysore'\n",
      " 'E282  JSS IAP  Dharwad' 'E243  AAAD  Yalahanka, Bangalore'\n",
      " 'E262  BCA  Bangalore' 'E271  EWSA  Near Anjanagar,Bangalore']\n",
      "Course Type\n",
      "['Medical/Dental' 'BNYS' 'Pharma' 'Agriculture' 'Engineering'\n",
      " 'Architecture']\n",
      "Course\n",
      "['MBBS-GOVT.' 'BDS-GOVT.' 'BAMS-Govt' 'BHMS-Govt' 'BUMS-Govt' 'BNYS-Govt'\n",
      " 'BP B.Pharma' 'PD Pharma-D' 'DT B.Tech (D.Tech)'\n",
      " 'FT B.Tech.(Food\\nTechnology)' 'FH B.Fisheries\\nScience'\n",
      " 'AM B.Sc.(Hons)Ag.\\nBusi. Mng.' 'AG B.Sc.(Hons)\\nAgriculture'\n",
      " 'AB B.Tech\\n(Biotechnology)' 'HT B.Sc.(Hons)\\nHorticulture'\n",
      " 'FR B.Sc.(Hons)\\nForestry' 'HS B.Sc.(Hons)\\nCommunity Sc.'\n",
      " 'EA Agriculture\\nEngineering' 'EA\\nB.Tech(Agricultural Engg)'\n",
      " 'VS B.V.Sc and A.H' 'AI Artificial\\nIntelligence' 'CE Civil'\n",
      " 'CS Computers' 'EC Electronics' 'EE Electrical' 'IE Info.Science'\n",
      " 'ME Mechanical' 'TX Textiles' 'IM Ind. Engg.\\nMgmt.'\n",
      " 'EI Elec. Inst.\\nEngg' 'ET Elec.\\nTelecommn. Engg.' 'BT Bio Technology'\n",
      " 'SE Aero Space\\nEngg.' 'AD Artificial\\nIntel, Data Sc'\n",
      " 'CA CS (AI, Machine\\nLearning)' 'CH Chemical' 'CY CS- Cyber\\nSecurity'\n",
      " 'MD Med.Elect.' 'AE Aeronaut.Engg' 'AU Automobile'\n",
      " 'CD Computer Sc.\\nand Design' 'DS Comp. Sc. Engg-\\nData Sc.'\n",
      " 'BS B.Sc (Honours)' 'EL Electronics,\\nInstr. Tech.' 'EN Environmental'\n",
      " 'IP Ind.Prodn.' 'RI Robotics and AI' 'CB Comp. Sc. and\\nBus Sys.'\n",
      " 'CO Computer\\nEngineering' 'BM Bio Medical' 'RA Robotics and\\nAutomation'\n",
      " 'IC CS-IoT, Cyber\\nSecurity' 'BE Bio-Electronics\\nEngg.'\n",
      " 'CI Computer and\\nInformation' 'ER Electrical and\\nComputer'\n",
      " 'ES Electronics and\\nComputer' 'MT Mechatronics' 'BD CS- Big Data'\n",
      " 'CG Computer\\nScience and Tech' 'IO CS- Internet of\\nThings'\n",
      " 'IS Information Sc.\\nand Tech.' 'LC CS- Block Chain'\n",
      " 'OP Comp. Sc. Engg-\\nDev Ops' 'PL Petroleum\\nEngineering'\n",
      " 'CF CS(Artificial\\nIntel.)' 'II EC -Industrial\\nIntegrated'\n",
      " 'CC Computer and\\nComm. Engg.' 'IG Information\\nTechnology'\n",
      " 'MM Mechanical,\\nSmart Manf.' 'AR Architecture' 'ST Silk Tech.'\n",
      " 'SR B.Sc.(Hons)\\nSericulture' 'TC Telecommn.' 'CT Const. Tech.\\nMgmt.'\n",
      " 'SS CS and System\\nEngg' 'AT Automotive\\nEngg.'\n",
      " 'MC Mathamatics and\\nComputing' 'RB Robotics' 'RO Auto. And\\nRobot.'\n",
      " 'UP Planning' 'OT Industrial IOT' 'CK Civil Engg\\n(Kannada)'\n",
      " 'MN Mining\\nEngineering' 'PT Polymer Tech.' 'CR Ceramics'\n",
      " 'MR Marine\\nEngineering' 'BR BioMed. and\\nRobotic Engg'\n",
      " 'CV Civil\\nEnvironment Engg' 'UR Planning']\n",
      "Category\n",
      "['1' '2A' '2B' '3A' '3B' 'General' 'SC' 'ST']\n",
      "State\n",
      "['All India' 'Karnataka']\n",
      "Language\n",
      "['Any' 'Kannada']\n",
      "Rural/Urban\n",
      "['All' 'Rural']\n",
      "Category_Key\n",
      "['1G/1H' '1K/1KH' '1R/1RH' '2AG/2AH' '2AK/2AKH' '2AR/2ARH' '2BG/2BH'\n",
      " '2BK/2BKH' '2BR/2BRH' '3AG/3AH' '3AK/3AKH' '3AR/3ARH' '3BG/3BH'\n",
      " '3BK/3BKH' '3BR/3BRH' 'GM/GMH' 'GMK/GMKH' 'GMR/GMRH' 'SCG/SCH' 'SCK/SCKH'\n",
      " 'SCR/SCRH' 'STG/STH' 'STK/STKH' 'STR/STRH']\n",
      "Closing Rank\n",
      "['9831' '39162' '22742' ... '143413' '44938' '1522']\n"
     ]
    }
   ],
   "source": [
    "for col in final_kcet_data.columns:\n",
    "    print(col)\n",
    "    print(final_kcet_data[col].unique())"
   ]
  },
  {
   "cell_type": "code",
   "execution_count": 73,
   "metadata": {},
   "outputs": [
    {
     "data": {
      "text/plain": [
       "Index(['Institute', 'Course Type', 'Course', 'Category', 'State', 'Language',\n",
       "       'Rural/Urban', 'Category_Key', 'Closing Rank'],\n",
       "      dtype='object')"
      ]
     },
     "execution_count": 73,
     "metadata": {},
     "output_type": "execute_result"
    }
   ],
   "source": [
    "final_kcet_data.columns"
   ]
  },
  {
   "cell_type": "code",
   "execution_count": 74,
   "metadata": {},
   "outputs": [],
   "source": [
    "final_kcet_data.to_json(\"public/data/KCET/kcet_data.json\", orient=\"records\")"
   ]
  },
  {
   "cell_type": "code",
   "execution_count": 34,
   "metadata": {},
   "outputs": [
    {
     "data": {
      "text/plain": [
       "array(['Karnataka'], dtype=object)"
      ]
     },
     "execution_count": 34,
     "metadata": {},
     "output_type": "execute_result"
    }
   ],
   "source": [
    "final_kcet_data[final_kcet_data[\"Language\"] == \"Kannada\"][\"State\"].unique()"
   ]
  },
  {
   "cell_type": "code",
   "execution_count": 54,
   "metadata": {},
   "outputs": [
    {
     "data": {
      "text/html": [
       "<div>\n",
       "<style scoped>\n",
       "    .dataframe tbody tr th:only-of-type {\n",
       "        vertical-align: middle;\n",
       "    }\n",
       "\n",
       "    .dataframe tbody tr th {\n",
       "        vertical-align: top;\n",
       "    }\n",
       "\n",
       "    .dataframe thead th {\n",
       "        text-align: right;\n",
       "    }\n",
       "</style>\n",
       "<table border=\"1\" class=\"dataframe\">\n",
       "  <thead>\n",
       "    <tr style=\"text-align: right;\">\n",
       "      <th></th>\n",
       "      <th>Institute</th>\n",
       "      <th>Course</th>\n",
       "      <th>EWCWD</th>\n",
       "      <th>EWCWO</th>\n",
       "      <th>EWGLD</th>\n",
       "      <th>EWGLO</th>\n",
       "      <th>EWGND</th>\n",
       "      <th>EWGNO</th>\n",
       "      <th>EWPDD</th>\n",
       "      <th>EWPDO</th>\n",
       "      <th>...</th>\n",
       "      <th>SCPDO</th>\n",
       "      <th>SG</th>\n",
       "      <th>STCWD</th>\n",
       "      <th>STCWO</th>\n",
       "      <th>STGLD</th>\n",
       "      <th>STGLO</th>\n",
       "      <th>STGND</th>\n",
       "      <th>STGNO</th>\n",
       "      <th>STPDD</th>\n",
       "      <th>STPDO</th>\n",
       "    </tr>\n",
       "  </thead>\n",
       "  <tbody>\n",
       "    <tr>\n",
       "      <th>0</th>\n",
       "      <td>Delhi Technological University (DTU)</td>\n",
       "      <td>Computer Science and Engineering (CSE)</td>\n",
       "      <td>NaN</td>\n",
       "      <td>NaN</td>\n",
       "      <td>NaN</td>\n",
       "      <td>NaN</td>\n",
       "      <td>24129</td>\n",
       "      <td>7658.0</td>\n",
       "      <td>NaN</td>\n",
       "      <td>NaN</td>\n",
       "      <td>...</td>\n",
       "      <td>NaN</td>\n",
       "      <td>14322.0</td>\n",
       "      <td>NaN</td>\n",
       "      <td>NaN</td>\n",
       "      <td>NaN</td>\n",
       "      <td>NaN</td>\n",
       "      <td>296967.0</td>\n",
       "      <td>96383.0</td>\n",
       "      <td>NaN</td>\n",
       "      <td>NaN</td>\n",
       "    </tr>\n",
       "    <tr>\n",
       "      <th>1</th>\n",
       "      <td>Delhi Technological University (DTU)</td>\n",
       "      <td>Information Technology (IT)</td>\n",
       "      <td>NaN</td>\n",
       "      <td>NaN</td>\n",
       "      <td>NaN</td>\n",
       "      <td>NaN</td>\n",
       "      <td>29278</td>\n",
       "      <td>8189.0</td>\n",
       "      <td>NaN</td>\n",
       "      <td>NaN</td>\n",
       "      <td>...</td>\n",
       "      <td>NaN</td>\n",
       "      <td>22172.0</td>\n",
       "      <td>NaN</td>\n",
       "      <td>NaN</td>\n",
       "      <td>NaN</td>\n",
       "      <td>NaN</td>\n",
       "      <td>412802.0</td>\n",
       "      <td>121909.0</td>\n",
       "      <td>NaN</td>\n",
       "      <td>NaN</td>\n",
       "    </tr>\n",
       "    <tr>\n",
       "      <th>2</th>\n",
       "      <td>Delhi Technological University (DTU)</td>\n",
       "      <td>Software Engineering (SE)</td>\n",
       "      <td>NaN</td>\n",
       "      <td>NaN</td>\n",
       "      <td>NaN</td>\n",
       "      <td>NaN</td>\n",
       "      <td>33772</td>\n",
       "      <td>9246.0</td>\n",
       "      <td>NaN</td>\n",
       "      <td>NaN</td>\n",
       "      <td>...</td>\n",
       "      <td>NaN</td>\n",
       "      <td>23161.0</td>\n",
       "      <td>NaN</td>\n",
       "      <td>NaN</td>\n",
       "      <td>NaN</td>\n",
       "      <td>NaN</td>\n",
       "      <td>500239.0</td>\n",
       "      <td>116361.0</td>\n",
       "      <td>NaN</td>\n",
       "      <td>NaN</td>\n",
       "    </tr>\n",
       "    <tr>\n",
       "      <th>3</th>\n",
       "      <td>Delhi Technological University (DTU)</td>\n",
       "      <td>Mathematics and Computing (MCE)</td>\n",
       "      <td>NaN</td>\n",
       "      <td>NaN</td>\n",
       "      <td>NaN</td>\n",
       "      <td>NaN</td>\n",
       "      <td>37809</td>\n",
       "      <td>9555.0</td>\n",
       "      <td>NaN</td>\n",
       "      <td>NaN</td>\n",
       "      <td>...</td>\n",
       "      <td>NaN</td>\n",
       "      <td>25761.0</td>\n",
       "      <td>NaN</td>\n",
       "      <td>NaN</td>\n",
       "      <td>NaN</td>\n",
       "      <td>NaN</td>\n",
       "      <td>626554.0</td>\n",
       "      <td>143319.0</td>\n",
       "      <td>NaN</td>\n",
       "      <td>NaN</td>\n",
       "    </tr>\n",
       "    <tr>\n",
       "      <th>4</th>\n",
       "      <td>Delhi Technological University (DTU)</td>\n",
       "      <td>Electronics and Communication Engineering (ECE)</td>\n",
       "      <td>NaN</td>\n",
       "      <td>NaN</td>\n",
       "      <td>NaN</td>\n",
       "      <td>NaN</td>\n",
       "      <td>46787</td>\n",
       "      <td>13415.0</td>\n",
       "      <td>NaN</td>\n",
       "      <td>NaN</td>\n",
       "      <td>...</td>\n",
       "      <td>NaN</td>\n",
       "      <td>33648.0</td>\n",
       "      <td>NaN</td>\n",
       "      <td>NaN</td>\n",
       "      <td>NaN</td>\n",
       "      <td>NaN</td>\n",
       "      <td>917669.0</td>\n",
       "      <td>168274.0</td>\n",
       "      <td>NaN</td>\n",
       "      <td>NaN</td>\n",
       "    </tr>\n",
       "  </tbody>\n",
       "</table>\n",
       "<p>5 rows × 44 columns</p>\n",
       "</div>"
      ],
      "text/plain": [
       "                              Institute  \\\n",
       "0  Delhi Technological University (DTU)   \n",
       "1  Delhi Technological University (DTU)   \n",
       "2  Delhi Technological University (DTU)   \n",
       "3  Delhi Technological University (DTU)   \n",
       "4  Delhi Technological University (DTU)   \n",
       "\n",
       "                                            Course  EWCWD  EWCWO  EWGLD  \\\n",
       "0           Computer Science and Engineering (CSE)    NaN    NaN    NaN   \n",
       "1                      Information Technology (IT)    NaN    NaN    NaN   \n",
       "2                        Software Engineering (SE)    NaN    NaN    NaN   \n",
       "3                  Mathematics and Computing (MCE)    NaN    NaN    NaN   \n",
       "4  Electronics and Communication Engineering (ECE)    NaN    NaN    NaN   \n",
       "\n",
       "   EWGLO  EWGND    EWGNO  EWPDD  EWPDO  ...  SCPDO       SG  STCWD  STCWO  \\\n",
       "0    NaN  24129   7658.0    NaN    NaN  ...    NaN  14322.0    NaN    NaN   \n",
       "1    NaN  29278   8189.0    NaN    NaN  ...    NaN  22172.0    NaN    NaN   \n",
       "2    NaN  33772   9246.0    NaN    NaN  ...    NaN  23161.0    NaN    NaN   \n",
       "3    NaN  37809   9555.0    NaN    NaN  ...    NaN  25761.0    NaN    NaN   \n",
       "4    NaN  46787  13415.0    NaN    NaN  ...    NaN  33648.0    NaN    NaN   \n",
       "\n",
       "   STGLD  STGLO     STGND     STGNO  STPDD  STPDO  \n",
       "0    NaN    NaN  296967.0   96383.0    NaN    NaN  \n",
       "1    NaN    NaN  412802.0  121909.0    NaN    NaN  \n",
       "2    NaN    NaN  500239.0  116361.0    NaN    NaN  \n",
       "3    NaN    NaN  626554.0  143319.0    NaN    NaN  \n",
       "4    NaN    NaN  917669.0  168274.0    NaN    NaN  \n",
       "\n",
       "[5 rows x 44 columns]"
      ]
     },
     "execution_count": 54,
     "metadata": {},
     "output_type": "execute_result"
    }
   ],
   "source": [
    "jac_data = pd.read_csv(\"JAC 2023 Cutoffs - Cutoffs.csv\")\n",
    "\n",
    "jac_data.head()"
   ]
  },
  {
   "cell_type": "code",
   "execution_count": 55,
   "metadata": {},
   "outputs": [
    {
     "data": {
      "text/html": [
       "<div>\n",
       "<style scoped>\n",
       "    .dataframe tbody tr th:only-of-type {\n",
       "        vertical-align: middle;\n",
       "    }\n",
       "\n",
       "    .dataframe tbody tr th {\n",
       "        vertical-align: top;\n",
       "    }\n",
       "\n",
       "    .dataframe thead th {\n",
       "        text-align: right;\n",
       "    }\n",
       "</style>\n",
       "<table border=\"1\" class=\"dataframe\">\n",
       "  <thead>\n",
       "    <tr style=\"text-align: right;\">\n",
       "      <th></th>\n",
       "      <th>Category</th>\n",
       "      <th>Caste</th>\n",
       "      <th>Region</th>\n",
       "      <th>Gender</th>\n",
       "      <th>Defense Ward</th>\n",
       "      <th>Physically Disabled</th>\n",
       "    </tr>\n",
       "  </thead>\n",
       "  <tbody>\n",
       "    <tr>\n",
       "      <th>0</th>\n",
       "      <td>GNCWD</td>\n",
       "      <td>General</td>\n",
       "      <td>Delhi</td>\n",
       "      <td>Any</td>\n",
       "      <td>Yes</td>\n",
       "      <td>No</td>\n",
       "    </tr>\n",
       "    <tr>\n",
       "      <th>1</th>\n",
       "      <td>GNPDD</td>\n",
       "      <td>General</td>\n",
       "      <td>Delhi</td>\n",
       "      <td>Any</td>\n",
       "      <td>No</td>\n",
       "      <td>Yes</td>\n",
       "    </tr>\n",
       "    <tr>\n",
       "      <th>2</th>\n",
       "      <td>GNGLD</td>\n",
       "      <td>General</td>\n",
       "      <td>Delhi</td>\n",
       "      <td>Female</td>\n",
       "      <td>No</td>\n",
       "      <td>No</td>\n",
       "    </tr>\n",
       "    <tr>\n",
       "      <th>3</th>\n",
       "      <td>GNGND</td>\n",
       "      <td>General</td>\n",
       "      <td>Delhi</td>\n",
       "      <td>Any</td>\n",
       "      <td>No</td>\n",
       "      <td>No</td>\n",
       "    </tr>\n",
       "    <tr>\n",
       "      <th>4</th>\n",
       "      <td>GNCWO</td>\n",
       "      <td>General</td>\n",
       "      <td>Outside Delhi</td>\n",
       "      <td>Any</td>\n",
       "      <td>Yes</td>\n",
       "      <td>No</td>\n",
       "    </tr>\n",
       "  </tbody>\n",
       "</table>\n",
       "</div>"
      ],
      "text/plain": [
       "  Category    Caste         Region  Gender Defense Ward Physically Disabled\n",
       "0    GNCWD  General          Delhi     Any          Yes                  No\n",
       "1    GNPDD  General          Delhi     Any           No                 Yes\n",
       "2    GNGLD  General          Delhi  Female           No                  No\n",
       "3    GNGND  General          Delhi     Any           No                  No\n",
       "4    GNCWO  General  Outside Delhi     Any          Yes                  No"
      ]
     },
     "execution_count": 55,
     "metadata": {},
     "output_type": "execute_result"
    }
   ],
   "source": [
    "jac_cat = pd.read_csv(\"JAC 2023 Cutoffs - Category_Trans.csv\")\n",
    "\n",
    "jac_cat.head()"
   ]
  },
  {
   "cell_type": "code",
   "execution_count": 62,
   "metadata": {},
   "outputs": [],
   "source": [
    "all_dic = []\n",
    "for it, row in jac_data.iterrows():\n",
    "    for k, v in row.items():\n",
    "        \n",
    "        if k in [\"Institute\", \"Course\"]:\n",
    "            continue\n",
    "        else:\n",
    "            if v == \"\" or pd.isna(v): continue # no rank available\n",
    "            \n",
    "            dic = {}\n",
    "            dic[\"Institute\"] = row[\"Institute\"]\n",
    "            dic[\"Course\"] = row[\"Course\"]\n",
    "            cat_row = dict(jac_cat[jac_cat[\"Category\"] == k].iloc[0])\n",
    "            \n",
    "            dic[\"Category\"] = cat_row[\"Caste\"]\n",
    "            if cat_row[\"Gender\"] == \"Any\":\n",
    "                dic[\"Gender\"] = \"Gender-Neutral\"\n",
    "            elif cat_row[\"Gender\"] == \"Female\":\n",
    "                dic[\"Gender\"] = \"Female-Only\"\n",
    "            dic[\"Defense\"] = cat_row[\"Defense Ward\"]\n",
    "            dic[\"PWD\"]= cat_row[\"Physically Disabled\"]\n",
    "            dic[\"State\"] = cat_row[\"Region\"]\n",
    "            dic[\"Category_Key\"] = k\n",
    "\n",
    "            v = str(v)\n",
    "\n",
    "            if \"\\n\" in v:\n",
    "                v = v.split(\"\\n\")[0]\n",
    "            elif \" \" in v:\n",
    "                v = v.split(\" \")[0]\n",
    "            elif \".\" in v:\n",
    "                v = v.split(\".\")[0]\n",
    "\n",
    "            dic[\"Closing Rank\"] = v\n",
    "\n",
    "            all_dic.append(dic)\n",
    "\n",
    "\n"
   ]
  },
  {
   "cell_type": "code",
   "execution_count": 63,
   "metadata": {},
   "outputs": [],
   "source": [
    "jac_final = pd.DataFrame(all_dic)"
   ]
  },
  {
   "cell_type": "code",
   "execution_count": 64,
   "metadata": {},
   "outputs": [
    {
     "data": {
      "text/html": [
       "<div>\n",
       "<style scoped>\n",
       "    .dataframe tbody tr th:only-of-type {\n",
       "        vertical-align: middle;\n",
       "    }\n",
       "\n",
       "    .dataframe tbody tr th {\n",
       "        vertical-align: top;\n",
       "    }\n",
       "\n",
       "    .dataframe thead th {\n",
       "        text-align: right;\n",
       "    }\n",
       "</style>\n",
       "<table border=\"1\" class=\"dataframe\">\n",
       "  <thead>\n",
       "    <tr style=\"text-align: right;\">\n",
       "      <th></th>\n",
       "      <th>Institute</th>\n",
       "      <th>Course</th>\n",
       "      <th>Category</th>\n",
       "      <th>Gender</th>\n",
       "      <th>Defense</th>\n",
       "      <th>PWD</th>\n",
       "      <th>State</th>\n",
       "      <th>Category_Key</th>\n",
       "      <th>Closing Rank</th>\n",
       "    </tr>\n",
       "  </thead>\n",
       "  <tbody>\n",
       "    <tr>\n",
       "      <th>0</th>\n",
       "      <td>Delhi Technological University (DTU)</td>\n",
       "      <td>Computer Science and Engineering (CSE)</td>\n",
       "      <td>EWS</td>\n",
       "      <td>Gender-Neutral</td>\n",
       "      <td>No</td>\n",
       "      <td>No</td>\n",
       "      <td>Delhi</td>\n",
       "      <td>EWGND</td>\n",
       "      <td>24129</td>\n",
       "    </tr>\n",
       "    <tr>\n",
       "      <th>1</th>\n",
       "      <td>Delhi Technological University (DTU)</td>\n",
       "      <td>Computer Science and Engineering (CSE)</td>\n",
       "      <td>EWS</td>\n",
       "      <td>Gender-Neutral</td>\n",
       "      <td>No</td>\n",
       "      <td>No</td>\n",
       "      <td>Outside Delhi</td>\n",
       "      <td>EWGNO</td>\n",
       "      <td>7658</td>\n",
       "    </tr>\n",
       "    <tr>\n",
       "      <th>2</th>\n",
       "      <td>Delhi Technological University (DTU)</td>\n",
       "      <td>Computer Science and Engineering (CSE)</td>\n",
       "      <td>General</td>\n",
       "      <td>Gender-Neutral</td>\n",
       "      <td>No</td>\n",
       "      <td>No</td>\n",
       "      <td>Delhi</td>\n",
       "      <td>GNGND</td>\n",
       "      <td>12948</td>\n",
       "    </tr>\n",
       "    <tr>\n",
       "      <th>3</th>\n",
       "      <td>Delhi Technological University (DTU)</td>\n",
       "      <td>Computer Science and Engineering (CSE)</td>\n",
       "      <td>General</td>\n",
       "      <td>Gender-Neutral</td>\n",
       "      <td>No</td>\n",
       "      <td>No</td>\n",
       "      <td>Outside Delhi</td>\n",
       "      <td>GNGNO</td>\n",
       "      <td>4876</td>\n",
       "    </tr>\n",
       "    <tr>\n",
       "      <th>4</th>\n",
       "      <td>Delhi Technological University (DTU)</td>\n",
       "      <td>Computer Science and Engineering (CSE)</td>\n",
       "      <td>OBC</td>\n",
       "      <td>Gender-Neutral</td>\n",
       "      <td>No</td>\n",
       "      <td>No</td>\n",
       "      <td>Delhi</td>\n",
       "      <td>OBGND</td>\n",
       "      <td>49995</td>\n",
       "    </tr>\n",
       "  </tbody>\n",
       "</table>\n",
       "</div>"
      ],
      "text/plain": [
       "                              Institute  \\\n",
       "0  Delhi Technological University (DTU)   \n",
       "1  Delhi Technological University (DTU)   \n",
       "2  Delhi Technological University (DTU)   \n",
       "3  Delhi Technological University (DTU)   \n",
       "4  Delhi Technological University (DTU)   \n",
       "\n",
       "                                   Course Category          Gender Defense  \\\n",
       "0  Computer Science and Engineering (CSE)      EWS  Gender-Neutral      No   \n",
       "1  Computer Science and Engineering (CSE)      EWS  Gender-Neutral      No   \n",
       "2  Computer Science and Engineering (CSE)  General  Gender-Neutral      No   \n",
       "3  Computer Science and Engineering (CSE)  General  Gender-Neutral      No   \n",
       "4  Computer Science and Engineering (CSE)      OBC  Gender-Neutral      No   \n",
       "\n",
       "  PWD          State Category_Key Closing Rank  \n",
       "0  No          Delhi        EWGND        24129  \n",
       "1  No  Outside Delhi        EWGNO         7658  \n",
       "2  No          Delhi        GNGND        12948  \n",
       "3  No  Outside Delhi        GNGNO         4876  \n",
       "4  No          Delhi        OBGND        49995  "
      ]
     },
     "execution_count": 64,
     "metadata": {},
     "output_type": "execute_result"
    }
   ],
   "source": [
    "jac_final.head()"
   ]
  },
  {
   "cell_type": "code",
   "execution_count": 10,
   "metadata": {},
   "outputs": [
    {
     "name": "stdout",
     "output_type": "stream",
     "text": [
      "['Delhi Technological University (DTU)'\n",
      " 'Netaji Subhas University of Technology (NSUT)'\n",
      " 'Indraprastha Institute of Information Technology Delhi (IIIT Delhi)'\n",
      " 'Indira Gandhi Delhi Technical University for Women (IGDTUW)']\n",
      "['Computer Science and Engineering (CSE)' 'Information Technology (IT)'\n",
      " 'Software Engineering (SE)' 'Mathematics and Computing (MCE)'\n",
      " 'Electronics and Communication Engineering (ECE)'\n",
      " 'Electrical Engineering (EE)' 'Mechanical Engineering (ME)'\n",
      " 'Automotive Engineering (MAM)' 'Engineering Physics (EP)'\n",
      " 'Chemical Engineering (CHE)' 'Civil Engineering (CE)'\n",
      " 'Production & Industrial Engineering (PIE)'\n",
      " 'Environmental Engineering (ENE)' 'Bio-Technology (BT)'\n",
      " 'Computer Science and Engineering (Artificial Intelligence) (CSAI)'\n",
      " 'Computer Science and Engineering (Data Science) (CSDS)'\n",
      " 'Information Technology (Network and Information Security) (ITNS)'\n",
      " 'Mathematics and Computing (MAC)'\n",
      " 'Electronics and Communication Engineering (Internet of Things) (EIOT)'\n",
      " 'Instrumentation and Control Engineering (ICE)'\n",
      " 'Computer Science and Engineering (Big Data Analytics) (CSDA)'\n",
      " 'Computer Science and Engineering (Internet of Things) (CIOT)'\n",
      " 'Electronics and Communication Engineering (AI/ML) (ECAM)'\n",
      " 'Mechanical Engineering (Electric Vehicles) (MEEV)' 'Geoinformatics (GI)'\n",
      " 'Computer Science and Applied Mathematics (CSAM)'\n",
      " 'Computer Science and Artificial Intelligence (CSAI)'\n",
      " 'Computer Science and Biosciences (CSB)'\n",
      " 'Computer Science and Design (CSD)'\n",
      " 'Computer Science and Social Sciences (CSSS)'\n",
      " 'Electronics and Communications Engineering (ECE)'\n",
      " 'Electronics and VLSI Engineering (EVE)'\n",
      " 'Computer Science and Engineering (Artificial Intelligence) (CSE-AI)'\n",
      " 'Electronics and Communications Engineering (Artificial Intelligence) (ECE-AI)'\n",
      " 'Artificial Intelligence and Machine Learning (AI-ML)'\n",
      " 'Mechanical and Automation Engineering (MAE)'\n",
      " 'Mechanical and Automation Engineering with integrated MBA (DMAM)'\n",
      " 'Architecture and Planning (B.Arch. Paper 2)']\n",
      "['EWGND' 'EWGNO' 'GNGND' 'GNGNO' 'OBGND' 'OBGNO' 'SCGND' 'SCGNO' 'SG'\n",
      " 'STGND' 'STGNO' 'EWGLD' 'EWGLO' 'EWPDD' 'GNCWD' 'GNCWO' 'GNGLD' 'GNGLO'\n",
      " 'GNPDD' 'OBCWD' 'OBGLD' 'OBGLO' 'SCCWD' 'SCGLD' 'STCWD' 'STGLD' 'EWCWD'\n",
      " 'EWCWO' 'GNPDO' 'OBPDD' 'OBPDO' 'SCGLO' 'SCPDO' 'OBCWO' 'STGLO' 'EWPDO'\n",
      " 'SCCWO' 'KM']\n",
      "['Any' 'Female']\n",
      "['No' 'Yes']\n",
      "['No' 'Yes']\n",
      "['Delhi' 'Outside Delhi' 'Any']\n",
      "['24129' '7658' '12948' '4876' '49995' '13126' '84936' '37183' '14322'\n",
      " '296967' '96383' '29278' '8189' '16364' '6424' '61182' '15795' '106576'\n",
      " '45086' '22172' '412802' '121909' '33772' '9246' '19231' '7157' '72135'\n",
      " '16970' '127318' '59146' '23161' '500239' '116361' '37809' '9555' '22071'\n",
      " '7980' '85687' '19103' '149866' '71977' '25761' '626554' '143319' '46787'\n",
      " '13415' '27432' '8677' '109654' '21342' '164543' '82652' '33648' '917669'\n",
      " '168274' '55920' '16236' '37615' '11963' '129975' '23903' '254216'\n",
      " '112592' '67704' '1094649' '137194' '75179' '21326' '52903' '16372'\n",
      " '169633' '27595' '327548' '124048' '101841' '1075384' '147571' '79288'\n",
      " '17319' '56083' '15959' '173508' '27596' '383468' '124229' '100324'\n",
      " '384734' '199399' '75767' '24355' '54957' '15302' '175339' '29463'\n",
      " '432983' '135608' '67637' '252314' '94868' '23503' '63692' '18459'\n",
      " '199592' '31131' '444420' '124665' '81410' '183336' '99192' '24754'\n",
      " '72407' '21106' '210896' '31257' '444409' '126829' '116253' '682374'\n",
      " '126583' '102538' '24825' '69236' '21109' '219954' '32151' '471134'\n",
      " '131499' '131968' '245112' '111847' '25440' '81658' '23177' '233970'\n",
      " '33674' '495174' '135743' '117332' '247932' '115740' '25703' '80740'\n",
      " '23469' '241098' '36181' '479568' '132166' '91541' '240784' '33920'\n",
      " '10115' '16524' '7590' '272727' '675753' '17746' '13805' '6466' '6254'\n",
      " '3255' '561483' '98809' '43966' '23529' '26717' '9405' '719657' '100145'\n",
      " '59361' '44401' '246272' '446761' '327172' '71471' '26435' '331390'\n",
      " '28789' '22139' '7622' '317490' '164147' '17278' '7182' '10174' '3994'\n",
      " '80408' '78376' '63324' '21534' '43286' '14244' '66328' '151925' '238847'\n",
      " '144067' '64657' '89108' '49910' '361542' '350145' '427738' '350282'\n",
      " '111243' '34576' '16067' '24790' '7934' '713274' '18900' '13019' '4882'\n",
      " '94432' '67564' '52064' '14680' '184647' '67992' '97533' '60008' '383867'\n",
      " '373321' '111956' '92191' '38682' '30757' '9010' '764836' '21473' '8965'\n",
      " '16910' '6279' '267993' '125046' '315910' '89325' '26269' '60644' '15740'\n",
      " '197132' '91831' '115192' '63622' '672636' '546369' '465810' '112962'\n",
      " '45428' '31684' '10273' '27507' '22410' '9824' '19799' '7385' '94544'\n",
      " '70069' '16617' '531032' '202870' '127698' '67727' '631769' '671541'\n",
      " '139165' '600104' '133863' '54920' '38615' '10906' '35086' '24528' '8320'\n",
      " '22419' '8047' '103386' '31143' '81228' '19208' '855792' '158540'\n",
      " '153193' '72100' '698348' '167747' '98132' '44337' '11905' '42880'\n",
      " '26930' '11172' '24463' '9269' '214703' '126791' '38519' '90743' '20760'\n",
      " '203369' '178251' '82300' '910934' '998848' '195395' '143927' '82614'\n",
      " '16633' '48456' '13356' '499237' '48157' '42783' '11897' '29503' '9867'\n",
      " '281828' '234059' '171606' '34807' '109170' '21722' '443916' '918058'\n",
      " '233988' '105183' '194655' '91022' '735558' '194607' '846931' '163833'\n",
      " '277282' '135905' '61107' '16770' '82713' '128145' '73752' '20271'\n",
      " '40849' '12152' '283142' '25320' '263306' '56456' '138069' '24843'\n",
      " '462901' '293222' '119481' '197874' '382340' '175969' '192476' '141565'\n",
      " '68196' '19211' '107529' '801302' '77817' '27068' '49807' '14685'\n",
      " '442960' '390396' '340751' '57628' '154198' '27104' '616216' '185252'\n",
      " '388195' '121156' '240430' '414360' '151506' '29657' '87444' '23059'\n",
      " '121900' '95101' '27980' '59268' '17031' '420586' '658432' '364249'\n",
      " '58333' '191382' '29277' '169883' '618225' '169406' '429281' '128218'\n",
      " '1043524' '229172' '148571' '118403' '23722' '148114' '93836' '29210'\n",
      " '83392' '22214' '396985' '348057' '61629' '253835' '38172' '182709'\n",
      " '584645' '507213' '128271' '598385' '243375' '109380' '56096' '14176'\n",
      " '231842' '58035' '32224' '8194' '328515' '275181' '146362' '48735'\n",
      " '106373' '20029' '209911' '162316' '176682' '71550' '680098' '156609'\n",
      " '156577' '114354' '61826' '14679' '47935' '63912' '20113' '35521' '9676'\n",
      " '229701' '52749' '125023' '20769' '312275' '209058' '73718' '690130'\n",
      " '192437' '321245' '26031' '127492' '29960' '83232' '15880' '108654'\n",
      " '101288' '82095' '18988' '46984' '10196' '510092' '312259' '53454'\n",
      " '157715' '23072' '492307' '470420' '329451' '105129' '280716' '208469'\n",
      " '165570' '121112' '26567' '122422' '105272' '28774' '80654' '19538'\n",
      " '361553' '479819' '57753' '255148' '29982' '736571' '471426' '130272'\n",
      " '187056' '183548' '45875' '141101' '26636' '186105' '107535' '29809'\n",
      " '92386' '22846' '42038' '486192' '277971' '36235' '643195' '505617'\n",
      " '133658' '189270' '155140' '174145' '109322' '31791' '99027' '24287'\n",
      " '480661' '465557' '290569' '40163' '797746' '554906' '128404' '248095'\n",
      " '44494' '10769' '26091' '14725' '5489' '432164' '160053' '99948' '85806'\n",
      " '17651' '185173' '71978' '816417' '127816' '31341' '9322' '108352' '8416'\n",
      " '290285' '22873' '112500' '58436' '13476' '190467' '129171' '45724'\n",
      " '393637' '47408' '43452' '12761' '27166' '23771' '8304' '47953' '202063'\n",
      " '103198' '21244' '260834' '78149' '141488' '40815' '12269' '26166'\n",
      " '17905' '7454' '376275' '449023' '141340' '80019' '17754' '236733'\n",
      " '73949' '92984' '33130' '8762' '214006' '11874' '308749' '46834' '131431'\n",
      " '66956' '15815' '144752' '62163' '751423' '105238' '45174' '12742'\n",
      " '30470' '22859' '7896' '60904' '200299' '99372' '18124' '273414' '86759'\n",
      " '50907' '14388' '50973' '26762' '8670' '167474' '318650' '114748' '20535'\n",
      " '275807' '89941' '158809' '59672' '15296' '80476' '30593' '10141' '67854'\n",
      " '371282' '138024' '21706' '362037' '94200' '186385' '249696' '82606'\n",
      " '29342' '151806' '133904' '51288' '23413' '666584' '298706' '342103'\n",
      " '335652' '44717' '210049' '44599' '352680' '148161' '53731' '770091'\n",
      " '280461' '99760' '26424' '126074' '417421' '58531' '20788' '812465'\n",
      " '316605' '408949' '90279' '211764' '39894' '340347' '134356' '63994'\n",
      " '1028524' '257477' '132115' '34657' '202978' '190386' '85981' '26887'\n",
      " '529334' '302639' '56421' '613210' '171375' '88974' '300025' '139197'\n",
      " '34892' '217626' '90900' '25851' '617661' '283539' '50944' '561820'\n",
      " '163252' '99892' '294260' '107203' '29372' '162344' '66326' '24319'\n",
      " '472199' '235292' '49070' '401107' '133990' '78943' '201331' '116503'\n",
      " '32570' '119907' '71162' '25528' '561288' '244940' '48026' '507092'\n",
      " '164656' '83056' '206256' '187976' '38896' '272555' '103589' '30636'\n",
      " '94574' '382096' '61469' '776862' '182852' '113863' '291861' '194408'\n",
      " '288586' '106534' '31246' '443875' '62133' '776192' '186896' '117220'\n",
      " '6030' '5925' '40323' '4475' '1514' '35117' '5941' '49870' '6224' '32816'\n",
      " '5296']\n"
     ]
    }
   ],
   "source": [
    "for col in jac_final.columns:\n",
    "    print(jac_final[col].unique())"
   ]
  },
  {
   "cell_type": "code",
   "execution_count": 65,
   "metadata": {},
   "outputs": [],
   "source": [
    "jac_final.to_json(\"public/data/JEE/jac_data.json\", orient=\"records\")"
   ]
  },
  {
   "cell_type": "code",
   "execution_count": null,
   "metadata": {},
   "outputs": [],
   "source": []
  }
 ],
 "metadata": {
  "kernelspec": {
   "display_name": "quiz_backend",
   "language": "python",
   "name": "python3"
  },
  "language_info": {
   "codemirror_mode": {
    "name": "ipython",
    "version": 3
   },
   "file_extension": ".py",
   "mimetype": "text/x-python",
   "name": "python",
   "nbconvert_exporter": "python",
   "pygments_lexer": "ipython3",
   "version": "3.12.4"
  },
  "orig_nbformat": 4,
  "vscode": {
   "interpreter": {
    "hash": "a22a3c1a833c484268b629d10500c4d4f5e83f0440bb4577f2799fa06ed79215"
   }
  }
 },
 "nbformat": 4,
 "nbformat_minor": 2
}
